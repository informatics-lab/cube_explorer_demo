{
 "cells": [
  {
   "cell_type": "markdown",
   "metadata": {
    "extensions": {
     "jupyter_dashboards": {
      "version": 1,
      "views": {
       "grid_default": {
        "col": 0,
        "height": 12,
        "hidden": false,
        "row": 0,
        "width": 12
       },
       "report_default": {
        "hidden": false
       }
      }
     }
    }
   },
   "source": [
    "Looking at data with Notebooks\n",
    "============================\n",
    "\n",
    "This is a Jupyter Notebook. You can use them for lots of things including\n",
    "\n",
    "* Running Python code\n",
    "* Displaying data\n",
    "* Writing text like this\n",
    "* Hiding all the code to quickly generate an interactive data documents which can be used by you, other Meteorologists, or customers\n",
    "\n",
    "You can find out more about Jupyter Notebooks [here](http://blog.ibmjstart.net/2016/03/21/powered-by-jupyter/) and [here](http://jupyter.org/).\n",
    "\n",
    "We're going to be using two Met Office Python modules\n",
    "\n",
    "1. Iris, which lets you load and manipulate atmospheric data. See [here](http://scitools.org.uk/iris/) for more.\n",
    "2. Cube Explorer which is brand new and lets you interact with the data using sliders etc. See [here](http://scitools.github.io/cube_browser/) for more.\n",
    "\n",
    "WARNING: This is a crash course! Do not be frightened. This Notebook covers tonnes of stuff - the main point is to give you an idea of what's possible."
   ]
  },
  {
   "cell_type": "markdown",
   "metadata": {
    "extensions": {
     "jupyter_dashboards": {
      "version": 1,
      "views": {
       "grid_default": {
        "col": 0,
        "height": 4,
        "hidden": true,
        "row": 12,
        "width": 4
       },
       "report_default": {
        "hidden": true
       }
      }
     }
    }
   },
   "source": [
    "## Getting hold of some data\n",
    "\n",
    "First off, lets get our imports sorted out."
   ]
  },
  {
   "cell_type": "code",
   "execution_count": 1,
   "metadata": {
    "collapsed": false,
    "extensions": {
     "jupyter_dashboards": {
      "version": 1,
      "views": {
       "grid_default": {
        "hidden": true
       },
       "report_default": {
        "hidden": true
       }
      }
     }
    }
   },
   "outputs": [],
   "source": [
    "%matplotlib inline\n",
    "import iris\n",
    "import iris.coord_categorisation\n",
    "import numpy as np\n",
    "\n",
    "import matplotlib.pyplot as plt\n",
    "import iris.quickplot as qplt\n",
    "import iris.plot as iplt\n",
    "import cartopy.crs as ccrs"
   ]
  },
  {
   "cell_type": "markdown",
   "metadata": {
    "extensions": {
     "jupyter_dashboards": {
      "version": 1,
      "views": {
       "grid_default": {
        "col": 4,
        "height": 4,
        "hidden": true,
        "row": 12,
        "width": 4
       },
       "report_default": {
        "hidden": false
       }
      }
     }
    }
   },
   "source": [
    "If you put a ! at the beginning of a cell, you can run Bash (Linux terminal) code. Lets use this to have a look at the data we've got in `/data/incoming`"
   ]
  },
  {
   "cell_type": "code",
   "execution_count": 2,
   "metadata": {
    "collapsed": false,
    "extensions": {
     "jupyter_dashboards": {
      "version": 1,
      "views": {
       "grid_default": {
        "col": 8,
        "height": 13,
        "hidden": true,
        "row": 12,
        "width": 4
       },
       "report_default": {
        "hidden": false
       }
      }
     }
    }
   },
   "outputs": [
    {
     "name": "stdout",
     "output_type": "stream",
     "text": [
      "era-interim-2mtemp-step-0-1979-1990.nc\r\n",
      "era-interim-2mtemp-step-0-1990-2000.nc\r\n",
      "era-interim-2mtemp-step-0-2000-2010.nc\r\n",
      "era-interim-2mtemp-step-0-2010-latest.nc\r\n",
      "era-interim-2mtemp-step-3-6-9-12-1979-1990.nc\r\n",
      "era-interim-2mtemp-step-3-6-9-12-1990-2000.nc\r\n",
      "era-interim-2mtemp-step-3-6-9-12-2000-2010.nc\r\n",
      "era-interim-2mtemp-step-3-6-9-12-2010-latest.nc\r\n",
      "era-interim-surface-pressure-1979-1990.nc\r\n",
      "era-interim-surface-pressure-1990-2000.nc\r\n",
      "era-interim-surface-pressure-2000-2010.nc\r\n",
      "era-interim-surface-pressure-2010-latest.nc\r\n",
      "era-interim-total-precip-1979-1990.nc\r\n",
      "era-interim-total-precip-1990-2000.nc\r\n",
      "era-interim-total-precip-2000-2010.nc\r\n",
      "era-interim-total-precip-2010-latest.nc\r\n"
     ]
    }
   ],
   "source": [
    "!ls /data/incoming"
   ]
  },
  {
   "cell_type": "markdown",
   "metadata": {
    "extensions": {
     "jupyter_dashboards": {
      "version": 1,
      "views": {
       "grid_default": {
        "col": 0,
        "height": 4,
        "hidden": true,
        "row": 12,
        "width": 4
       },
       "report_default": {
        "hidden": false
       }
      }
     }
    }
   },
   "source": [
    "Let's load all the temp data in using Iris. I happen to know that 'step-0' is 6 hourly data, so lets just use that."
   ]
  },
  {
   "cell_type": "code",
   "execution_count": 3,
   "metadata": {
    "collapsed": true,
    "extensions": {
     "jupyter_dashboards": {
      "version": 1,
      "views": {
       "grid_default": {
        "hidden": true
       },
       "report_default": {}
      }
     }
    }
   },
   "outputs": [],
   "source": [
    "# This is magic - pretend you haven't seen it\n",
    "def history_cb(c, f, n):\n",
    "    c.attributes['history']=None"
   ]
  },
  {
   "cell_type": "code",
   "execution_count": 4,
   "metadata": {
    "collapsed": false,
    "extensions": {
     "jupyter_dashboards": {
      "version": 1,
      "views": {
       "grid_default": {
        "hidden": true
       },
       "report_default": {
        "hidden": true
       }
      }
     }
    }
   },
   "outputs": [
    {
     "name": "stderr",
     "output_type": "stream",
     "text": [
      "/home/ubuntu/miniconda2/lib/python2.7/site-packages/iris/fileformats/cf.py:1140: IrisDeprecation: NetCDF default loading behaviour currently does not expose variables which define reference surfaces for dimensionless vertical coordinates as independent Cubes. This behaviour is deprecated in favour of automatic promotion to Cubes. To switch to the new behaviour, set iris.FUTURE.netcdf_promote to True.\n",
      "  warn_deprecated(msg)\n"
     ]
    }
   ],
   "source": [
    "# Don't worry about this stuff either...\n",
    "temp = iris.load('/data/incoming/era-interim-2mtemp-step-0-*.nc',\n",
    "                         callback=history_cb).concatenate_cube()"
   ]
  },
  {
   "cell_type": "code",
   "execution_count": 32,
   "metadata": {
    "collapsed": false,
    "extensions": {
     "jupyter_dashboards": {
      "version": 1,
      "views": {
       "grid_default": {
        "col": 4,
        "height": 8,
        "hidden": true,
        "row": 12,
        "width": 4
       },
       "report_default": {
        "hidden": false
       }
      }
     }
    }
   },
   "outputs": [
    {
     "name": "stdout",
     "output_type": "stream",
     "text": [
      "2 metre temperature / (K)           (time: 54420; latitude: 241; longitude: 480)\n",
      "     Dimension coordinates:\n",
      "          time                           x                -               -\n",
      "          latitude                       -                x               -\n",
      "          longitude                      -                -               x\n",
      "     Attributes:\n",
      "          Conventions: CF-1.6\n",
      "          history: None\n"
     ]
    }
   ],
   "source": [
    "print temp"
   ]
  },
  {
   "cell_type": "markdown",
   "metadata": {
    "extensions": {
     "jupyter_dashboards": {
      "version": 1,
      "views": {
       "grid_default": {
        "col": 0,
        "height": 7,
        "hidden": true,
        "row": 81,
        "width": 12
       },
       "report_default": {}
      }
     }
    }
   },
   "source": [
    "### TASK:\n",
    "Can you\n",
    "1. slice this cube to give a 2D lat lon cube for any one time? You will need to use square brackets i.e. `[` and `]`\n",
    "1. get the cubes \"long name\" as a variable\n",
    "\n",
    "Tip: In Jupyter Notebooks, you can easily too at the documentation for something by putting a `?` after it. Try running\n",
    "`temp?`\n",
    "to find out what cubes can do. The autocomplete is also helpful - try writing `temp.` (note the trailing fullstop) and pressing tab."
   ]
  },
  {
   "cell_type": "markdown",
   "metadata": {
    "extensions": {
     "jupyter_dashboards": {
      "version": 1,
      "views": {
       "grid_default": {
        "col": 0,
        "height": 4,
        "hidden": false,
        "row": 24,
        "width": 4
       },
       "report_default": {
        "hidden": false
       }
      }
     }
    }
   },
   "source": [
    "## Plotting some data"
   ]
  },
  {
   "cell_type": "markdown",
   "metadata": {
    "extensions": {
     "jupyter_dashboards": {
      "version": 1,
      "views": {
       "grid_default": {
        "col": 0,
        "height": 4,
        "hidden": false,
        "row": 28,
        "width": 4
       },
       "report_default": {
        "hidden": false
       }
      }
     }
    }
   },
   "source": [
    "You can use Iris' quickplot module to make some...well..plots, quickly.\n",
    "\n",
    "If you want to plot a map, you need a cube which is 2D lat/lon, so we'll take a slice"
   ]
  },
  {
   "cell_type": "code",
   "execution_count": 6,
   "metadata": {
    "collapsed": false,
    "extensions": {
     "jupyter_dashboards": {
      "version": 1,
      "views": {
       "grid_default": {
        "col": 4,
        "height": 14,
        "hidden": false,
        "row": 24,
        "width": 4
       },
       "report_default": {
        "hidden": false
       }
      }
     }
    }
   },
   "outputs": [
    {
     "name": "stderr",
     "output_type": "stream",
     "text": [
      "/home/ubuntu/miniconda2/lib/python2.7/site-packages/iris/coords.py:802: UserWarning: Coordinate 'longitude' is not bounded, guessing contiguous bounds.\n",
      "  'contiguous bounds.'.format(self.name()))\n",
      "/home/ubuntu/miniconda2/lib/python2.7/site-packages/iris/coords.py:802: UserWarning: Coordinate 'latitude' is not bounded, guessing contiguous bounds.\n",
      "  'contiguous bounds.'.format(self.name()))\n",
      "/home/ubuntu/miniconda2/lib/python2.7/site-packages/cartopy/mpl/geoaxes.py:1339: RuntimeWarning: invalid value encountered in greater\n",
      "  to_mask = ((np.abs(dx_horizontal) > np.pi / 2) |\n"
     ]
    },
    {
     "data": {
      "text/plain": [
       "<cartopy.mpl.feature_artist.FeatureArtist at 0x7f3a5e5021d0>"
      ]
     },
     "execution_count": 6,
     "metadata": {},
     "output_type": "execute_result"
    },
    {
     "data": {
      "image/png": "[encoded data removed]",
      "text/plain": [
       "<matplotlib.figure.Figure at 0x7f3a921b8590>"
      ]
     },
     "metadata": {},
     "output_type": "display_data"
    }
   ],
   "source": [
    "qplt.pcolormesh(temp[0])\n",
    "plt.gca().coastlines()"
   ]
  },
  {
   "cell_type": "markdown",
   "metadata": {
    "extensions": {
     "jupyter_dashboards": {
      "version": 1,
      "views": {
       "grid_default": {
        "col": 0,
        "height": 6,
        "hidden": false,
        "row": 32,
        "width": 4
       },
       "report_default": {
        "hidden": false
       }
      }
     }
    }
   },
   "source": [
    "#### A NOTE ON COLOURBARS\n",
    "Please please please don't use the default rainbow colour scale. It's being phased out because it deforms the data. See [here](http://www.climate-lab-book.ac.uk/2016/why-rainbow-colour-scales-can-be-misleading/) for more. Compare how different rainbow (above) looks to the new better Viridis (below). What different (erroneous) conclusions, might you make from the top plot, that you would from the bottom?"
   ]
  },
  {
   "cell_type": "code",
   "execution_count": 7,
   "metadata": {
    "collapsed": false,
    "extensions": {
     "jupyter_dashboards": {
      "version": 1,
      "views": {
       "grid_default": {
        "col": 8,
        "height": 14,
        "hidden": false,
        "row": 24,
        "width": 4
       },
       "report_default": {
        "hidden": false
       }
      }
     }
    }
   },
   "outputs": [
    {
     "data": {
      "text/plain": [
       "<cartopy.mpl.feature_artist.FeatureArtist at 0x7f3a5b3d2790>"
      ]
     },
     "execution_count": 7,
     "metadata": {},
     "output_type": "execute_result"
    },
    {
     "data": {
      "image/png": "[encoded data removed]",
      "text/plain": [
       "<matplotlib.figure.Figure at 0x7f3a5e79ae50>"
      ]
     },
     "metadata": {},
     "output_type": "display_data"
    }
   ],
   "source": [
    "qplt.pcolormesh(temp[0], cmap='viridis')\n",
    "plt.gca().coastlines()"
   ]
  },
  {
   "cell_type": "markdown",
   "metadata": {
    "extensions": {
     "jupyter_dashboards": {
      "version": 1,
      "views": {
       "grid_default": {
        "col": 0,
        "height": 6,
        "hidden": true,
        "row": 81,
        "width": 12
       },
       "report_default": {}
      }
     }
    }
   },
   "source": [
    "### TASK:\n",
    "Can you edit and rerun the cells above to\n",
    "1. plot the data from a different time?\n",
    "1. google what other colour maps Matplotlib has, and try them out?\n",
    "1. google how to add a title to the plot?"
   ]
  },
  {
   "cell_type": "markdown",
   "metadata": {
    "extensions": {
     "jupyter_dashboards": {
      "version": 1,
      "views": {
       "grid_default": {
        "col": 0,
        "height": 3,
        "hidden": false,
        "row": 38,
        "width": 12
       },
       "report_default": {
        "hidden": false
       }
      }
     }
    }
   },
   "source": [
    "## Interactive Temperature plot\n",
    "Using `cube_browser` i.e. `cb` we can make a slider to look at different times. Again, you can read about this [here](http://scitools.github.io/cube_browser/)"
   ]
  },
  {
   "cell_type": "code",
   "execution_count": 8,
   "metadata": {
    "collapsed": false,
    "extensions": {
     "jupyter_dashboards": {
      "version": 1,
      "views": {
       "grid_default": {
        "col": 8,
        "height": 4,
        "hidden": true,
        "row": 12,
        "width": 4
       },
       "report_default": {
        "hidden": false
       }
      }
     }
    }
   },
   "outputs": [
    {
     "data": {
      "application/javascript": [
       "IPython.notebook.set_autosave_interval(0)"
      ]
     },
     "metadata": {},
     "output_type": "display_data"
    },
    {
     "name": "stdout",
     "output_type": "stream",
     "text": [
      "Autosave disabled\n"
     ]
    }
   ],
   "source": [
    "import cube_browser as cb"
   ]
  },
  {
   "cell_type": "code",
   "execution_count": 9,
   "metadata": {
    "collapsed": true,
    "extensions": {
     "jupyter_dashboards": {
      "version": 1,
      "views": {
       "grid_default": {
        "hidden": true
       },
       "report_default": {}
      }
     }
    }
   },
   "outputs": [],
   "source": [
    "uklatlims = (30.0, 60.0)\n",
    "uklonlims = (-50.0, 5.0)\n",
    "uktemp = temp.intersection(latitude=uklatlims, longitude=uklonlims)"
   ]
  },
  {
   "cell_type": "code",
   "execution_count": 27,
   "metadata": {
    "collapsed": false,
    "extensions": {
     "jupyter_dashboards": {
      "version": 1,
      "views": {
       "grid_default": {
        "col": 2,
        "height": 21,
        "hidden": false,
        "row": 41,
        "width": 9
       },
       "report_default": {
        "hidden": false
       }
      }
     }
    }
   },
   "outputs": [
    {
     "data": {
      "application/javascript": [
       "/* Put everything inside the global mpl namespace */\n",
       "window.mpl = {};\n",
       "\n",
       "mpl.get_websocket_type = function() {\n",
       "    if (typeof(WebSocket) !== 'undefined') {\n",
       "        return WebSocket;\n",
       "    } else if (typeof(MozWebSocket) !== 'undefined') {\n",
       "        return MozWebSocket;\n",
       "    } else {\n",
       "        alert('Your browser does not have WebSocket support.' +\n",
       "              'Please try Chrome, Safari or Firefox ≥ 6. ' +\n",
       "              'Firefox 4 and 5 are also supported but you ' +\n",
       "              'have to enable WebSockets in about:config.');\n",
       "    };\n",
       "}\n",
       "\n",
       "mpl.figure = function(figure_id, websocket, ondownload, parent_element) {\n",
       "    this.id = figure_id;\n",
       "\n",
       "    this.ws = websocket;\n",
       "\n",
       "    this.supports_binary = (this.ws.binaryType != undefined);\n",
       "\n",
       "    if (!this.supports_binary) {\n",
       "        var warnings = document.getElementById(\"mpl-warnings\");\n",
       "        if (warnings) {\n",
       "            warnings.style.display = 'block';\n",
       "            warnings.textContent = (\n",
       "                \"This browser does not support binary websocket messages. \" +\n",
       "                    \"Performance may be slow.\");\n",
       "        }\n",
       "    }\n",
       "\n",
       "    this.imageObj = new Image();\n",
       "\n",
       "    this.context = undefined;\n",
       "    this.message = undefined;\n",
       "    this.canvas = undefined;\n",
       "    this.rubberband_canvas = undefined;\n",
       "    this.rubberband_context = undefined;\n",
       "    this.format_dropdown = undefined;\n",
       "\n",
       "    this.image_mode = 'full';\n",
       "\n",
       "    this.root = $('<div/>');\n",
       "    this._root_extra_style(this.root)\n",
       "    this.root.attr('style', 'display: inline-block');\n",
       "\n",
       "    $(parent_element).append(this.root);\n",
       "\n",
       "    this._init_header(this);\n",
       "    this._init_canvas(this);\n",
       "    this._init_toolbar(this);\n",
       "\n",
       "    var fig = this;\n",
       "\n",
       "    this.waiting = false;\n",
       "\n",
       "    this.ws.onopen =  function () {\n",
       "            fig.send_message(\"supports_binary\", {value: fig.supports_binary});\n",
       "            fig.send_message(\"send_image_mode\", {});\n",
       "            fig.send_message(\"refresh\", {});\n",
       "        }\n",
       "\n",
       "    this.imageObj.onload = function() {\n",
       "            if (fig.image_mode == 'full') {\n",
       "                // Full images could contain transparency (where diff images\n",
       "                // almost always do), so we need to clear the canvas so that\n",
       "                // there is no ghosting.\n",
       "                fig.context.clearRect(0, 0, fig.canvas.width, fig.canvas.height);\n",
       "            }\n",
       "            fig.context.drawImage(fig.imageObj, 0, 0);\n",
       "        };\n",
       "\n",
       "    this.imageObj.onunload = function() {\n",
       "        this.ws.close();\n",
       "    }\n",
       "\n",
       "    this.ws.onmessage = this._make_on_message_function(this);\n",
       "\n",
       "    this.ondownload = ondownload;\n",
       "}\n",
       "\n",
       "mpl.figure.prototype._init_header = function() {\n",
       "    var titlebar = $(\n",
       "        '<div class=\"ui-dialog-titlebar ui-widget-header ui-corner-all ' +\n",
       "        'ui-helper-clearfix\"/>');\n",
       "    var titletext = $(\n",
       "        '<div class=\"ui-dialog-title\" style=\"width: 100%; ' +\n",
       "        'text-align: center; padding: 3px;\"/>');\n",
       "    titlebar.append(titletext)\n",
       "    this.root.append(titlebar);\n",
       "    this.header = titletext[0];\n",
       "}\n",
       "\n",
       "\n",
       "\n",
       "mpl.figure.prototype._canvas_extra_style = function(canvas_div) {\n",
       "\n",
       "}\n",
       "\n",
       "\n",
       "mpl.figure.prototype._root_extra_style = function(canvas_div) {\n",
       "\n",
       "}\n",
       "\n",
       "mpl.figure.prototype._init_canvas = function() {\n",
       "    var fig = this;\n",
       "\n",
       "    var canvas_div = $('<div/>');\n",
       "\n",
       "    canvas_div.attr('style', 'position: relative; clear: both; outline: 0');\n",
       "\n",
       "    function canvas_keyboard_event(event) {\n",
       "        return fig.key_event(event, event['data']);\n",
       "    }\n",
       "\n",
       "    canvas_div.keydown('key_press', canvas_keyboard_event);\n",
       "    canvas_div.keyup('key_release', canvas_keyboard_event);\n",
       "    this.canvas_div = canvas_div\n",
       "    this._canvas_extra_style(canvas_div)\n",
       "    this.root.append(canvas_div);\n",
       "\n",
       "    var canvas = $('<canvas/>');\n",
       "    canvas.addClass('mpl-canvas');\n",
       "    canvas.attr('style', \"left: 0; top: 0; z-index: 0; outline: 0\")\n",
       "\n",
       "    this.canvas = canvas[0];\n",
       "    this.context = canvas[0].getContext(\"2d\");\n",
       "\n",
       "    var rubberband = $('<canvas/>');\n",
       "    rubberband.attr('style', \"position: absolute; left: 0; top: 0; z-index: 1;\")\n",
       "\n",
       "    var pass_mouse_events = true;\n",
       "\n",
       "    canvas_div.resizable({\n",
       "        start: function(event, ui) {\n",
       "            pass_mouse_events = false;\n",
       "        },\n",
       "        resize: function(event, ui) {\n",
       "            fig.request_resize(ui.size.width, ui.size.height);\n",
       "        },\n",
       "        stop: function(event, ui) {\n",
       "            pass_mouse_events = true;\n",
       "            fig.request_resize(ui.size.width, ui.size.height);\n",
       "        },\n",
       "    });\n",
       "\n",
       "    function mouse_event_fn(event) {\n",
       "        if (pass_mouse_events)\n",
       "            return fig.mouse_event(event, event['data']);\n",
       "    }\n",
       "\n",
       "    rubberband.mousedown('button_press', mouse_event_fn);\n",
       "    rubberband.mouseup('button_release', mouse_event_fn);\n",
       "    // Throttle sequential mouse events to 1 every 20ms.\n",
       "    rubberband.mousemove('motion_notify', mouse_event_fn);\n",
       "\n",
       "    rubberband.mouseenter('figure_enter', mouse_event_fn);\n",
       "    rubberband.mouseleave('figure_leave', mouse_event_fn);\n",
       "\n",
       "    canvas_div.on(\"wheel\", function (event) {\n",
       "        event = event.originalEvent;\n",
       "        event['data'] = 'scroll'\n",
       "        if (event.deltaY < 0) {\n",
       "            event.step = 1;\n",
       "        } else {\n",
       "            event.step = -1;\n",
       "        }\n",
       "        mouse_event_fn(event);\n",
       "    });\n",
       "\n",
       "    canvas_div.append(canvas);\n",
       "    canvas_div.append(rubberband);\n",
       "\n",
       "    this.rubberband = rubberband;\n",
       "    this.rubberband_canvas = rubberband[0];\n",
       "    this.rubberband_context = rubberband[0].getContext(\"2d\");\n",
       "    this.rubberband_context.strokeStyle = \"#000000\";\n",
       "\n",
       "    this._resize_canvas = function(width, height) {\n",
       "        // Keep the size of the canvas, canvas container, and rubber band\n",
       "        // canvas in synch.\n",
       "        canvas_div.css('width', width)\n",
       "        canvas_div.css('height', height)\n",
       "\n",
       "        canvas.attr('width', width);\n",
       "        canvas.attr('height', height);\n",
       "\n",
       "        rubberband.attr('width', width);\n",
       "        rubberband.attr('height', height);\n",
       "    }\n",
       "\n",
       "    // Set the figure to an initial 600x600px, this will subsequently be updated\n",
       "    // upon first draw.\n",
       "    this._resize_canvas(600, 600);\n",
       "\n",
       "    // Disable right mouse context menu.\n",
       "    $(this.rubberband_canvas).bind(\"contextmenu\",function(e){\n",
       "        return false;\n",
       "    });\n",
       "\n",
       "    function set_focus () {\n",
       "        canvas.focus();\n",
       "        canvas_div.focus();\n",
       "    }\n",
       "\n",
       "    window.setTimeout(set_focus, 100);\n",
       "}\n",
       "\n",
       "mpl.figure.prototype._init_toolbar = function() {\n",
       "    var fig = this;\n",
       "\n",
       "    var nav_element = $('<div/>')\n",
       "    nav_element.attr('style', 'width: 100%');\n",
       "    this.root.append(nav_element);\n",
       "\n",
       "    // Define a callback function for later on.\n",
       "    function toolbar_event(event) {\n",
       "        return fig.toolbar_button_onclick(event['data']);\n",
       "    }\n",
       "    function toolbar_mouse_event(event) {\n",
       "        return fig.toolbar_button_onmouseover(event['data']);\n",
       "    }\n",
       "\n",
       "    for(var toolbar_ind in mpl.toolbar_items) {\n",
       "        var name = mpl.toolbar_items[toolbar_ind][0];\n",
       "        var tooltip = mpl.toolbar_items[toolbar_ind][1];\n",
       "        var image = mpl.toolbar_items[toolbar_ind][2];\n",
       "        var method_name = mpl.toolbar_items[toolbar_ind][3];\n",
       "\n",
       "        if (!name) {\n",
       "            // put a spacer in here.\n",
       "            continue;\n",
       "        }\n",
       "        var button = $('<button/>');\n",
       "        button.addClass('ui-button ui-widget ui-state-default ui-corner-all ' +\n",
       "                        'ui-button-icon-only');\n",
       "        button.attr('role', 'button');\n",
       "        button.attr('aria-disabled', 'false');\n",
       "        button.click(method_name, toolbar_event);\n",
       "        button.mouseover(tooltip, toolbar_mouse_event);\n",
       "\n",
       "        var icon_img = $('<span/>');\n",
       "        icon_img.addClass('ui-button-icon-primary ui-icon');\n",
       "        icon_img.addClass(image);\n",
       "        icon_img.addClass('ui-corner-all');\n",
       "\n",
       "        var tooltip_span = $('<span/>');\n",
       "        tooltip_span.addClass('ui-button-text');\n",
       "        tooltip_span.html(tooltip);\n",
       "\n",
       "        button.append(icon_img);\n",
       "        button.append(tooltip_span);\n",
       "\n",
       "        nav_element.append(button);\n",
       "    }\n",
       "\n",
       "    var fmt_picker_span = $('<span/>');\n",
       "\n",
       "    var fmt_picker = $('<select/>');\n",
       "    fmt_picker.addClass('mpl-toolbar-option ui-widget ui-widget-content');\n",
       "    fmt_picker_span.append(fmt_picker);\n",
       "    nav_element.append(fmt_picker_span);\n",
       "    this.format_dropdown = fmt_picker[0];\n",
       "\n",
       "    for (var ind in mpl.extensions) {\n",
       "        var fmt = mpl.extensions[ind];\n",
       "        var option = $(\n",
       "            '<option/>', {selected: fmt === mpl.default_extension}).html(fmt);\n",
       "        fmt_picker.append(option)\n",
       "    }\n",
       "\n",
       "    // Add hover states to the ui-buttons\n",
       "    $( \".ui-button\" ).hover(\n",
       "        function() { $(this).addClass(\"ui-state-hover\");},\n",
       "        function() { $(this).removeClass(\"ui-state-hover\");}\n",
       "    );\n",
       "\n",
       "    var status_bar = $('<span class=\"mpl-message\"/>');\n",
       "    nav_element.append(status_bar);\n",
       "    this.message = status_bar[0];\n",
       "}\n",
       "\n",
       "mpl.figure.prototype.request_resize = function(x_pixels, y_pixels) {\n",
       "    // Request matplotlib to resize the figure. Matplotlib will then trigger a resize in the client,\n",
       "    // which will in turn request a refresh of the image.\n",
       "    this.send_message('resize', {'width': x_pixels, 'height': y_pixels});\n",
       "}\n",
       "\n",
       "mpl.figure.prototype.send_message = function(type, properties) {\n",
       "    properties['type'] = type;\n",
       "    properties['figure_id'] = this.id;\n",
       "    this.ws.send(JSON.stringify(properties));\n",
       "}\n",
       "\n",
       "mpl.figure.prototype.send_draw_message = function() {\n",
       "    if (!this.waiting) {\n",
       "        this.waiting = true;\n",
       "        this.ws.send(JSON.stringify({type: \"draw\", figure_id: this.id}));\n",
       "    }\n",
       "}\n",
       "\n",
       "\n",
       "mpl.figure.prototype.handle_save = function(fig, msg) {\n",
       "    var format_dropdown = fig.format_dropdown;\n",
       "    var format = format_dropdown.options[format_dropdown.selectedIndex].value;\n",
       "    fig.ondownload(fig, format);\n",
       "}\n",
       "\n",
       "\n",
       "mpl.figure.prototype.handle_resize = function(fig, msg) {\n",
       "    var size = msg['size'];\n",
       "    if (size[0] != fig.canvas.width || size[1] != fig.canvas.height) {\n",
       "        fig._resize_canvas(size[0], size[1]);\n",
       "        fig.send_message(\"refresh\", {});\n",
       "    };\n",
       "}\n",
       "\n",
       "mpl.figure.prototype.handle_rubberband = function(fig, msg) {\n",
       "    var x0 = msg['x0'];\n",
       "    var y0 = fig.canvas.height - msg['y0'];\n",
       "    var x1 = msg['x1'];\n",
       "    var y1 = fig.canvas.height - msg['y1'];\n",
       "    x0 = Math.floor(x0) + 0.5;\n",
       "    y0 = Math.floor(y0) + 0.5;\n",
       "    x1 = Math.floor(x1) + 0.5;\n",
       "    y1 = Math.floor(y1) + 0.5;\n",
       "    var min_x = Math.min(x0, x1);\n",
       "    var min_y = Math.min(y0, y1);\n",
       "    var width = Math.abs(x1 - x0);\n",
       "    var height = Math.abs(y1 - y0);\n",
       "\n",
       "    fig.rubberband_context.clearRect(\n",
       "        0, 0, fig.canvas.width, fig.canvas.height);\n",
       "\n",
       "    fig.rubberband_context.strokeRect(min_x, min_y, width, height);\n",
       "}\n",
       "\n",
       "mpl.figure.prototype.handle_figure_label = function(fig, msg) {\n",
       "    // Updates the figure title.\n",
       "    fig.header.textContent = msg['label'];\n",
       "}\n",
       "\n",
       "mpl.figure.prototype.handle_cursor = function(fig, msg) {\n",
       "    var cursor = msg['cursor'];\n",
       "    switch(cursor)\n",
       "    {\n",
       "    case 0:\n",
       "        cursor = 'pointer';\n",
       "        break;\n",
       "    case 1:\n",
       "        cursor = 'default';\n",
       "        break;\n",
       "    case 2:\n",
       "        cursor = 'crosshair';\n",
       "        break;\n",
       "    case 3:\n",
       "        cursor = 'move';\n",
       "        break;\n",
       "    }\n",
       "    fig.rubberband_canvas.style.cursor = cursor;\n",
       "}\n",
       "\n",
       "mpl.figure.prototype.handle_message = function(fig, msg) {\n",
       "    fig.message.textContent = msg['message'];\n",
       "}\n",
       "\n",
       "mpl.figure.prototype.handle_draw = function(fig, msg) {\n",
       "    // Request the server to send over a new figure.\n",
       "    fig.send_draw_message();\n",
       "}\n",
       "\n",
       "mpl.figure.prototype.handle_image_mode = function(fig, msg) {\n",
       "    fig.image_mode = msg['mode'];\n",
       "}\n",
       "\n",
       "mpl.figure.prototype.updated_canvas_event = function() {\n",
       "    // Called whenever the canvas gets updated.\n",
       "    this.send_message(\"ack\", {});\n",
       "}\n",
       "\n",
       "// A function to construct a web socket function for onmessage handling.\n",
       "// Called in the figure constructor.\n",
       "mpl.figure.prototype._make_on_message_function = function(fig) {\n",
       "    return function socket_on_message(evt) {\n",
       "        if (evt.data instanceof Blob) {\n",
       "            /* FIXME: We get \"Resource interpreted as Image but\n",
       "             * transferred with MIME type text/plain:\" errors on\n",
       "             * Chrome.  But how to set the MIME type?  It doesn't seem\n",
       "             * to be part of the websocket stream */\n",
       "            evt.data.type = \"image/png\";\n",
       "\n",
       "            /* Free the memory for the previous frames */\n",
       "            if (fig.imageObj.src) {\n",
       "                (window.URL || window.webkitURL).revokeObjectURL(\n",
       "                    fig.imageObj.src);\n",
       "            }\n",
       "\n",
       "            fig.imageObj.src = (window.URL || window.webkitURL).createObjectURL(\n",
       "                evt.data);\n",
       "            fig.updated_canvas_event();\n",
       "            fig.waiting = false;\n",
       "            return;\n",
       "        }\n",
       "        else if (typeof evt.data === 'string' && evt.data.slice(0, 21) == \"data:image/png;base64\") {\n",
       "            fig.imageObj.src = evt.data;\n",
       "            fig.updated_canvas_event();\n",
       "            fig.waiting = false;\n",
       "            return;\n",
       "        }\n",
       "\n",
       "        var msg = JSON.parse(evt.data);\n",
       "        var msg_type = msg['type'];\n",
       "\n",
       "        // Call the  \"handle_{type}\" callback, which takes\n",
       "        // the figure and JSON message as its only arguments.\n",
       "        try {\n",
       "            var callback = fig[\"handle_\" + msg_type];\n",
       "        } catch (e) {\n",
       "            console.log(\"No handler for the '\" + msg_type + \"' message type: \", msg);\n",
       "            return;\n",
       "        }\n",
       "\n",
       "        if (callback) {\n",
       "            try {\n",
       "                // console.log(\"Handling '\" + msg_type + \"' message: \", msg);\n",
       "                callback(fig, msg);\n",
       "            } catch (e) {\n",
       "                console.log(\"Exception inside the 'handler_\" + msg_type + \"' callback:\", e, e.stack, msg);\n",
       "            }\n",
       "        }\n",
       "    };\n",
       "}\n",
       "\n",
       "// from http://stackoverflow.com/questions/1114465/getting-mouse-location-in-canvas\n",
       "mpl.findpos = function(e) {\n",
       "    //this section is from http://www.quirksmode.org/js/events_properties.html\n",
       "    var targ;\n",
       "    if (!e)\n",
       "        e = window.event;\n",
       "    if (e.target)\n",
       "        targ = e.target;\n",
       "    else if (e.srcElement)\n",
       "        targ = e.srcElement;\n",
       "    if (targ.nodeType == 3) // defeat Safari bug\n",
       "        targ = targ.parentNode;\n",
       "\n",
       "    // jQuery normalizes the pageX and pageY\n",
       "    // pageX,Y are the mouse positions relative to the document\n",
       "    // offset() returns the position of the element relative to the document\n",
       "    var x = e.pageX - $(targ).offset().left;\n",
       "    var y = e.pageY - $(targ).offset().top;\n",
       "\n",
       "    return {\"x\": x, \"y\": y};\n",
       "};\n",
       "\n",
       "/*\n",
       " * return a copy of an object with only non-object keys\n",
       " * we need this to avoid circular references\n",
       " * http://stackoverflow.com/a/24161582/3208463\n",
       " */\n",
       "function simpleKeys (original) {\n",
       "  return Object.keys(original).reduce(function (obj, key) {\n",
       "    if (typeof original[key] !== 'object')\n",
       "        obj[key] = original[key]\n",
       "    return obj;\n",
       "  }, {});\n",
       "}\n",
       "\n",
       "mpl.figure.prototype.mouse_event = function(event, name) {\n",
       "    var canvas_pos = mpl.findpos(event)\n",
       "\n",
       "    if (name === 'button_press')\n",
       "    {\n",
       "        this.canvas.focus();\n",
       "        this.canvas_div.focus();\n",
       "    }\n",
       "\n",
       "    var x = canvas_pos.x;\n",
       "    var y = canvas_pos.y;\n",
       "\n",
       "    this.send_message(name, {x: x, y: y, button: event.button,\n",
       "                             step: event.step,\n",
       "                             guiEvent: simpleKeys(event)});\n",
       "\n",
       "    /* This prevents the web browser from automatically changing to\n",
       "     * the text insertion cursor when the button is pressed.  We want\n",
       "     * to control all of the cursor setting manually through the\n",
       "     * 'cursor' event from matplotlib */\n",
       "    event.preventDefault();\n",
       "    return false;\n",
       "}\n",
       "\n",
       "mpl.figure.prototype._key_event_extra = function(event, name) {\n",
       "    // Handle any extra behaviour associated with a key event\n",
       "}\n",
       "\n",
       "mpl.figure.prototype.key_event = function(event, name) {\n",
       "\n",
       "    // Prevent repeat events\n",
       "    if (name == 'key_press')\n",
       "    {\n",
       "        if (event.which === this._key)\n",
       "            return;\n",
       "        else\n",
       "            this._key = event.which;\n",
       "    }\n",
       "    if (name == 'key_release')\n",
       "        this._key = null;\n",
       "\n",
       "    var value = '';\n",
       "    if (event.ctrlKey && event.which != 17)\n",
       "        value += \"ctrl+\";\n",
       "    if (event.altKey && event.which != 18)\n",
       "        value += \"alt+\";\n",
       "    if (event.shiftKey && event.which != 16)\n",
       "        value += \"shift+\";\n",
       "\n",
       "    value += 'k';\n",
       "    value += event.which.toString();\n",
       "\n",
       "    this._key_event_extra(event, name);\n",
       "\n",
       "    this.send_message(name, {key: value,\n",
       "                             guiEvent: simpleKeys(event)});\n",
       "    return false;\n",
       "}\n",
       "\n",
       "mpl.figure.prototype.toolbar_button_onclick = function(name) {\n",
       "    if (name == 'download') {\n",
       "        this.handle_save(this, null);\n",
       "    } else {\n",
       "        this.send_message(\"toolbar_button\", {name: name});\n",
       "    }\n",
       "};\n",
       "\n",
       "mpl.figure.prototype.toolbar_button_onmouseover = function(tooltip) {\n",
       "    this.message.textContent = tooltip;\n",
       "};\n",
       "mpl.toolbar_items = [[\"Home\", \"Reset original view\", \"fa fa-home icon-home\", \"home\"], [\"Back\", \"Back to  previous view\", \"fa fa-arrow-left icon-arrow-left\", \"back\"], [\"Forward\", \"Forward to next view\", \"fa fa-arrow-right icon-arrow-right\", \"forward\"], [\"\", \"\", \"\", \"\"], [\"Pan\", \"Pan axes with left mouse, zoom with right\", \"fa fa-arrows icon-move\", \"pan\"], [\"Zoom\", \"Zoom to rectangle\", \"fa fa-square-o icon-check-empty\", \"zoom\"], [\"\", \"\", \"\", \"\"], [\"Download\", \"Download plot\", \"fa fa-floppy-o icon-save\", \"download\"]];\n",
       "\n",
       "mpl.extensions = [\"eps\", \"jpeg\", \"pdf\", \"png\", \"ps\", \"raw\", \"svg\", \"tif\"];\n",
       "\n",
       "mpl.default_extension = \"png\";var comm_websocket_adapter = function(comm) {\n",
       "    // Create a \"websocket\"-like object which calls the given IPython comm\n",
       "    // object with the appropriate methods. Currently this is a non binary\n",
       "    // socket, so there is still some room for performance tuning.\n",
       "    var ws = {};\n",
       "\n",
       "    ws.close = function() {\n",
       "        comm.close()\n",
       "    };\n",
       "    ws.send = function(m) {\n",
       "        //console.log('sending', m);\n",
       "        comm.send(m);\n",
       "    };\n",
       "    // Register the callback with on_msg.\n",
       "    comm.on_msg(function(msg) {\n",
       "        //console.log('receiving', msg['content']['data'], msg);\n",
       "        // Pass the mpl event to the overriden (by mpl) onmessage function.\n",
       "        ws.onmessage(msg['content']['data'])\n",
       "    });\n",
       "    return ws;\n",
       "}\n",
       "\n",
       "mpl.mpl_figure_comm = function(comm, msg) {\n",
       "    // This is the function which gets called when the mpl process\n",
       "    // starts-up an IPython Comm through the \"matplotlib\" channel.\n",
       "\n",
       "    var id = msg.content.data.id;\n",
       "    // Get hold of the div created by the display call when the Comm\n",
       "    // socket was opened in Python.\n",
       "    var element = $(\"#\" + id);\n",
       "    var ws_proxy = comm_websocket_adapter(comm)\n",
       "\n",
       "    function ondownload(figure, format) {\n",
       "        window.open(figure.imageObj.src);\n",
       "    }\n",
       "\n",
       "    var fig = new mpl.figure(id, ws_proxy,\n",
       "                           ondownload,\n",
       "                           element.get(0));\n",
       "\n",
       "    // Call onopen now - mpl needs it, as it is assuming we've passed it a real\n",
       "    // web socket which is closed, not our websocket->open comm proxy.\n",
       "    ws_proxy.onopen();\n",
       "\n",
       "    fig.parent_element = element.get(0);\n",
       "    fig.cell_info = mpl.find_output_cell(\"<div id='\" + id + \"'></div>\");\n",
       "    if (!fig.cell_info) {\n",
       "        console.error(\"Failed to find cell for figure\", id, fig);\n",
       "        return;\n",
       "    }\n",
       "\n",
       "    var output_index = fig.cell_info[2]\n",
       "    var cell = fig.cell_info[0];\n",
       "\n",
       "};\n",
       "\n",
       "mpl.figure.prototype.handle_close = function(fig, msg) {\n",
       "    fig.root.unbind('remove')\n",
       "\n",
       "    // Update the output cell to use the data from the current canvas.\n",
       "    fig.push_to_output();\n",
       "    var dataURL = fig.canvas.toDataURL();\n",
       "    // Re-enable the keyboard manager in IPython - without this line, in FF,\n",
       "    // the notebook keyboard shortcuts fail.\n",
       "    IPython.keyboard_manager.enable()\n",
       "    $(fig.parent_element).html('<img src=\"' + dataURL + '\">');\n",
       "    fig.close_ws(fig, msg);\n",
       "}\n",
       "\n",
       "mpl.figure.prototype.close_ws = function(fig, msg){\n",
       "    fig.send_message('closing', msg);\n",
       "    // fig.ws.close()\n",
       "}\n",
       "\n",
       "mpl.figure.prototype.push_to_output = function(remove_interactive) {\n",
       "    // Turn the data on the canvas into data in the output cell.\n",
       "    var dataURL = this.canvas.toDataURL();\n",
       "    this.cell_info[1]['text/html'] = '<img src=\"' + dataURL + '\">';\n",
       "}\n",
       "\n",
       "mpl.figure.prototype.updated_canvas_event = function() {\n",
       "    // Tell IPython that the notebook contents must change.\n",
       "    IPython.notebook.set_dirty(true);\n",
       "    this.send_message(\"ack\", {});\n",
       "    var fig = this;\n",
       "    // Wait a second, then push the new image to the DOM so\n",
       "    // that it is saved nicely (might be nice to debounce this).\n",
       "    setTimeout(function () { fig.push_to_output() }, 1000);\n",
       "}\n",
       "\n",
       "mpl.figure.prototype._init_toolbar = function() {\n",
       "    var fig = this;\n",
       "\n",
       "    var nav_element = $('<div/>')\n",
       "    nav_element.attr('style', 'width: 100%');\n",
       "    this.root.append(nav_element);\n",
       "\n",
       "    // Define a callback function for later on.\n",
       "    function toolbar_event(event) {\n",
       "        return fig.toolbar_button_onclick(event['data']);\n",
       "    }\n",
       "    function toolbar_mouse_event(event) {\n",
       "        return fig.toolbar_button_onmouseover(event['data']);\n",
       "    }\n",
       "\n",
       "    for(var toolbar_ind in mpl.toolbar_items){\n",
       "        var name = mpl.toolbar_items[toolbar_ind][0];\n",
       "        var tooltip = mpl.toolbar_items[toolbar_ind][1];\n",
       "        var image = mpl.toolbar_items[toolbar_ind][2];\n",
       "        var method_name = mpl.toolbar_items[toolbar_ind][3];\n",
       "\n",
       "        if (!name) { continue; };\n",
       "\n",
       "        var button = $('<button class=\"btn btn-default\" href=\"#\" title=\"' + name + '\"><i class=\"fa ' + image + ' fa-lg\"></i></button>');\n",
       "        button.click(method_name, toolbar_event);\n",
       "        button.mouseover(tooltip, toolbar_mouse_event);\n",
       "        nav_element.append(button);\n",
       "    }\n",
       "\n",
       "    // Add the status bar.\n",
       "    var status_bar = $('<span class=\"mpl-message\" style=\"text-align:right; float: right;\"/>');\n",
       "    nav_element.append(status_bar);\n",
       "    this.message = status_bar[0];\n",
       "\n",
       "    // Add the close button to the window.\n",
       "    var buttongrp = $('<div class=\"btn-group inline pull-right\"></div>');\n",
       "    var button = $('<button class=\"btn btn-mini btn-primary\" href=\"#\" title=\"Stop Interaction\"><i class=\"fa fa-power-off icon-remove icon-large\"></i></button>');\n",
       "    button.click(function (evt) { fig.handle_close(fig, {}); } );\n",
       "    button.mouseover('Stop Interaction', toolbar_mouse_event);\n",
       "    buttongrp.append(button);\n",
       "    var titlebar = this.root.find($('.ui-dialog-titlebar'));\n",
       "    titlebar.prepend(buttongrp);\n",
       "}\n",
       "\n",
       "mpl.figure.prototype._root_extra_style = function(el){\n",
       "    var fig = this\n",
       "    el.on(\"remove\", function(){\n",
       "\tfig.close_ws(fig, {});\n",
       "    });\n",
       "}\n",
       "\n",
       "mpl.figure.prototype._canvas_extra_style = function(el){\n",
       "    // this is important to make the div 'focusable\n",
       "    el.attr('tabindex', 0)\n",
       "    // reach out to IPython and tell the keyboard manager to turn it's self\n",
       "    // off when our div gets focus\n",
       "\n",
       "    // location in version 3\n",
       "    if (IPython.notebook.keyboard_manager) {\n",
       "        IPython.notebook.keyboard_manager.register_events(el);\n",
       "    }\n",
       "    else {\n",
       "        // location in version 2\n",
       "        IPython.keyboard_manager.register_events(el);\n",
       "    }\n",
       "\n",
       "}\n",
       "\n",
       "mpl.figure.prototype._key_event_extra = function(event, name) {\n",
       "    var manager = IPython.notebook.keyboard_manager;\n",
       "    if (!manager)\n",
       "        manager = IPython.keyboard_manager;\n",
       "\n",
       "    // Check for shift+enter\n",
       "    if (event.shiftKey && event.which == 13) {\n",
       "        this.canvas_div.blur();\n",
       "        event.shiftKey = false;\n",
       "        // Send a \"J\" for go to next cell\n",
       "        event.which = 74;\n",
       "        event.keyCode = 74;\n",
       "        manager.command_mode();\n",
       "        manager.handle_keydown(event);\n",
       "    }\n",
       "}\n",
       "\n",
       "mpl.figure.prototype.handle_save = function(fig, msg) {\n",
       "    fig.ondownload(fig, null);\n",
       "}\n",
       "\n",
       "\n",
       "mpl.find_output_cell = function(html_output) {\n",
       "    // Return the cell and output element which can be found *uniquely* in the notebook.\n",
       "    // Note - this is a bit hacky, but it is done because the \"notebook_saving.Notebook\"\n",
       "    // IPython event is triggered only after the cells have been serialised, which for\n",
       "    // our purposes (turning an active figure into a static one), is too late.\n",
       "    var cells = IPython.notebook.get_cells();\n",
       "    var ncells = cells.length;\n",
       "    for (var i=0; i<ncells; i++) {\n",
       "        var cell = cells[i];\n",
       "        if (cell.cell_type === 'code'){\n",
       "            for (var j=0; j<cell.output_area.outputs.length; j++) {\n",
       "                var data = cell.output_area.outputs[j];\n",
       "                if (data.data) {\n",
       "                    // IPython >= 3 moved mimebundle to data attribute of output\n",
       "                    data = data.data;\n",
       "                }\n",
       "                if (data['text/html'] == html_output) {\n",
       "                    return [cell, data, j];\n",
       "                }\n",
       "            }\n",
       "        }\n",
       "    }\n",
       "}\n",
       "\n",
       "// Register the function which deals with the matplotlib target/channel.\n",
       "// The kernel may be null if the page has been refreshed.\n",
       "if (IPython.notebook.kernel != null) {\n",
       "    IPython.notebook.kernel.comm_manager.register_target('matplotlib', mpl.mpl_figure_comm);\n",
       "}\n"
      ],
      "text/plain": [
       "<IPython.core.display.Javascript object>"
      ]
     },
     "metadata": {},
     "output_type": "display_data"
    },
    {
     "data": {
      "text/html": [
       "<img src=\"data:image/png;base64,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\">"
      ],
      "text/plain": [
       "<IPython.core.display.HTML object>"
      ]
     },
     "metadata": {},
     "output_type": "display_data"
    },
    {
     "data": {
      "text/plain": [
       "<matplotlib.text.Text at 0x7f3a492cc990>"
      ]
     },
     "execution_count": 27,
     "metadata": {},
     "output_type": "execute_result"
    }
   ],
   "source": [
    "plt.figure()\n",
    "\n",
    "ax = plt.subplot(111, projection=ccrs.PlateCarree())\n",
    "ax.coastlines()\n",
    "\n",
    "plot = cb.Pcolormesh(uktemp, ax, cmap='viridis', vmin=260, vmax=295)\n",
    "cb.Browser([plot]).display()\n",
    "plt.title(\"ERA temperature over the North Atlantic\")"
   ]
  },
  {
   "cell_type": "markdown",
   "metadata": {
    "extensions": {
     "jupyter_dashboards": {
      "version": 1,
      "views": {
       "grid_default": {
        "col": 0,
        "height": 5,
        "hidden": true,
        "row": 81,
        "width": 12
       },
       "report_default": {}
      }
     }
    }
   },
   "source": [
    "### TASK:\n",
    "Can you edit the plots above to\n",
    "1. change the plot so it shows the USA?\n",
    "1. change the projection to North Polar Stereo (see [Cartopy](http://scitools.org.uk/cartopy/))?"
   ]
  },
  {
   "cell_type": "markdown",
   "metadata": {
    "extensions": {
     "jupyter_dashboards": {
      "version": 1,
      "views": {
       "grid_default": {
        "col": 0,
        "height": 3,
        "hidden": false,
        "row": 62,
        "width": 11
       },
       "report_default": {
        "hidden": false
       }
      }
     }
    }
   },
   "source": [
    "## Two plots, one slider\n",
    "We can also have side by side plots that are linked together. In this example we'll load some air pressure and precip data to look at side by side"
   ]
  },
  {
   "cell_type": "code",
   "execution_count": 11,
   "metadata": {
    "collapsed": false,
    "extensions": {
     "jupyter_dashboards": {
      "version": 1,
      "views": {
       "grid_default": {
        "hidden": true
       },
       "report_default": {}
      }
     }
    }
   },
   "outputs": [],
   "source": [
    "ukpress = iris.load(\"/data/incoming/era-interim-surface-pressure-2000-2010.nc\",\n",
    "                         callback=history_cb).concatenate_cube().intersection(latitude=uklatlims, longitude=uklonlims)\n",
    "ukprecip = iris.load(\"/data/incoming/era-interim-total-precip-2000-2010.nc\",\n",
    "                         callback=history_cb).concatenate_cube()[:29224].intersection(latitude=uklatlims, longitude=uklonlims)"
   ]
  },
  {
   "cell_type": "code",
   "execution_count": 22,
   "metadata": {
    "collapsed": false,
    "extensions": {
     "jupyter_dashboards": {
      "version": 1,
      "views": {
       "grid_default": {
        "col": 0,
        "height": 16,
        "hidden": false,
        "row": 65,
        "width": 12
       },
       "report_default": {
        "hidden": false
       }
      }
     }
    },
    "scrolled": false
   },
   "outputs": [
    {
     "data": {
      "application/javascript": [
       "/* Put everything inside the global mpl namespace */\n",
       "window.mpl = {};\n",
       "\n",
       "mpl.get_websocket_type = function() {\n",
       "    if (typeof(WebSocket) !== 'undefined') {\n",
       "        return WebSocket;\n",
       "    } else if (typeof(MozWebSocket) !== 'undefined') {\n",
       "        return MozWebSocket;\n",
       "    } else {\n",
       "        alert('Your browser does not have WebSocket support.' +\n",
       "              'Please try Chrome, Safari or Firefox ≥ 6. ' +\n",
       "              'Firefox 4 and 5 are also supported but you ' +\n",
       "              'have to enable WebSockets in about:config.');\n",
       "    };\n",
       "}\n",
       "\n",
       "mpl.figure = function(figure_id, websocket, ondownload, parent_element) {\n",
       "    this.id = figure_id;\n",
       "\n",
       "    this.ws = websocket;\n",
       "\n",
       "    this.supports_binary = (this.ws.binaryType != undefined);\n",
       "\n",
       "    if (!this.supports_binary) {\n",
       "        var warnings = document.getElementById(\"mpl-warnings\");\n",
       "        if (warnings) {\n",
       "            warnings.style.display = 'block';\n",
       "            warnings.textContent = (\n",
       "                \"This browser does not support binary websocket messages. \" +\n",
       "                    \"Performance may be slow.\");\n",
       "        }\n",
       "    }\n",
       "\n",
       "    this.imageObj = new Image();\n",
       "\n",
       "    this.context = undefined;\n",
       "    this.message = undefined;\n",
       "    this.canvas = undefined;\n",
       "    this.rubberband_canvas = undefined;\n",
       "    this.rubberband_context = undefined;\n",
       "    this.format_dropdown = undefined;\n",
       "\n",
       "    this.image_mode = 'full';\n",
       "\n",
       "    this.root = $('<div/>');\n",
       "    this._root_extra_style(this.root)\n",
       "    this.root.attr('style', 'display: inline-block');\n",
       "\n",
       "    $(parent_element).append(this.root);\n",
       "\n",
       "    this._init_header(this);\n",
       "    this._init_canvas(this);\n",
       "    this._init_toolbar(this);\n",
       "\n",
       "    var fig = this;\n",
       "\n",
       "    this.waiting = false;\n",
       "\n",
       "    this.ws.onopen =  function () {\n",
       "            fig.send_message(\"supports_binary\", {value: fig.supports_binary});\n",
       "            fig.send_message(\"send_image_mode\", {});\n",
       "            fig.send_message(\"refresh\", {});\n",
       "        }\n",
       "\n",
       "    this.imageObj.onload = function() {\n",
       "            if (fig.image_mode == 'full') {\n",
       "                // Full images could contain transparency (where diff images\n",
       "                // almost always do), so we need to clear the canvas so that\n",
       "                // there is no ghosting.\n",
       "                fig.context.clearRect(0, 0, fig.canvas.width, fig.canvas.height);\n",
       "            }\n",
       "            fig.context.drawImage(fig.imageObj, 0, 0);\n",
       "        };\n",
       "\n",
       "    this.imageObj.onunload = function() {\n",
       "        this.ws.close();\n",
       "    }\n",
       "\n",
       "    this.ws.onmessage = this._make_on_message_function(this);\n",
       "\n",
       "    this.ondownload = ondownload;\n",
       "}\n",
       "\n",
       "mpl.figure.prototype._init_header = function() {\n",
       "    var titlebar = $(\n",
       "        '<div class=\"ui-dialog-titlebar ui-widget-header ui-corner-all ' +\n",
       "        'ui-helper-clearfix\"/>');\n",
       "    var titletext = $(\n",
       "        '<div class=\"ui-dialog-title\" style=\"width: 100%; ' +\n",
       "        'text-align: center; padding: 3px;\"/>');\n",
       "    titlebar.append(titletext)\n",
       "    this.root.append(titlebar);\n",
       "    this.header = titletext[0];\n",
       "}\n",
       "\n",
       "\n",
       "\n",
       "mpl.figure.prototype._canvas_extra_style = function(canvas_div) {\n",
       "\n",
       "}\n",
       "\n",
       "\n",
       "mpl.figure.prototype._root_extra_style = function(canvas_div) {\n",
       "\n",
       "}\n",
       "\n",
       "mpl.figure.prototype._init_canvas = function() {\n",
       "    var fig = this;\n",
       "\n",
       "    var canvas_div = $('<div/>');\n",
       "\n",
       "    canvas_div.attr('style', 'position: relative; clear: both; outline: 0');\n",
       "\n",
       "    function canvas_keyboard_event(event) {\n",
       "        return fig.key_event(event, event['data']);\n",
       "    }\n",
       "\n",
       "    canvas_div.keydown('key_press', canvas_keyboard_event);\n",
       "    canvas_div.keyup('key_release', canvas_keyboard_event);\n",
       "    this.canvas_div = canvas_div\n",
       "    this._canvas_extra_style(canvas_div)\n",
       "    this.root.append(canvas_div);\n",
       "\n",
       "    var canvas = $('<canvas/>');\n",
       "    canvas.addClass('mpl-canvas');\n",
       "    canvas.attr('style', \"left: 0; top: 0; z-index: 0; outline: 0\")\n",
       "\n",
       "    this.canvas = canvas[0];\n",
       "    this.context = canvas[0].getContext(\"2d\");\n",
       "\n",
       "    var rubberband = $('<canvas/>');\n",
       "    rubberband.attr('style', \"position: absolute; left: 0; top: 0; z-index: 1;\")\n",
       "\n",
       "    var pass_mouse_events = true;\n",
       "\n",
       "    canvas_div.resizable({\n",
       "        start: function(event, ui) {\n",
       "            pass_mouse_events = false;\n",
       "        },\n",
       "        resize: function(event, ui) {\n",
       "            fig.request_resize(ui.size.width, ui.size.height);\n",
       "        },\n",
       "        stop: function(event, ui) {\n",
       "            pass_mouse_events = true;\n",
       "            fig.request_resize(ui.size.width, ui.size.height);\n",
       "        },\n",
       "    });\n",
       "\n",
       "    function mouse_event_fn(event) {\n",
       "        if (pass_mouse_events)\n",
       "            return fig.mouse_event(event, event['data']);\n",
       "    }\n",
       "\n",
       "    rubberband.mousedown('button_press', mouse_event_fn);\n",
       "    rubberband.mouseup('button_release', mouse_event_fn);\n",
       "    // Throttle sequential mouse events to 1 every 20ms.\n",
       "    rubberband.mousemove('motion_notify', mouse_event_fn);\n",
       "\n",
       "    rubberband.mouseenter('figure_enter', mouse_event_fn);\n",
       "    rubberband.mouseleave('figure_leave', mouse_event_fn);\n",
       "\n",
       "    canvas_div.on(\"wheel\", function (event) {\n",
       "        event = event.originalEvent;\n",
       "        event['data'] = 'scroll'\n",
       "        if (event.deltaY < 0) {\n",
       "            event.step = 1;\n",
       "        } else {\n",
       "            event.step = -1;\n",
       "        }\n",
       "        mouse_event_fn(event);\n",
       "    });\n",
       "\n",
       "    canvas_div.append(canvas);\n",
       "    canvas_div.append(rubberband);\n",
       "\n",
       "    this.rubberband = rubberband;\n",
       "    this.rubberband_canvas = rubberband[0];\n",
       "    this.rubberband_context = rubberband[0].getContext(\"2d\");\n",
       "    this.rubberband_context.strokeStyle = \"#000000\";\n",
       "\n",
       "    this._resize_canvas = function(width, height) {\n",
       "        // Keep the size of the canvas, canvas container, and rubber band\n",
       "        // canvas in synch.\n",
       "        canvas_div.css('width', width)\n",
       "        canvas_div.css('height', height)\n",
       "\n",
       "        canvas.attr('width', width);\n",
       "        canvas.attr('height', height);\n",
       "\n",
       "        rubberband.attr('width', width);\n",
       "        rubberband.attr('height', height);\n",
       "    }\n",
       "\n",
       "    // Set the figure to an initial 600x600px, this will subsequently be updated\n",
       "    // upon first draw.\n",
       "    this._resize_canvas(600, 600);\n",
       "\n",
       "    // Disable right mouse context menu.\n",
       "    $(this.rubberband_canvas).bind(\"contextmenu\",function(e){\n",
       "        return false;\n",
       "    });\n",
       "\n",
       "    function set_focus () {\n",
       "        canvas.focus();\n",
       "        canvas_div.focus();\n",
       "    }\n",
       "\n",
       "    window.setTimeout(set_focus, 100);\n",
       "}\n",
       "\n",
       "mpl.figure.prototype._init_toolbar = function() {\n",
       "    var fig = this;\n",
       "\n",
       "    var nav_element = $('<div/>')\n",
       "    nav_element.attr('style', 'width: 100%');\n",
       "    this.root.append(nav_element);\n",
       "\n",
       "    // Define a callback function for later on.\n",
       "    function toolbar_event(event) {\n",
       "        return fig.toolbar_button_onclick(event['data']);\n",
       "    }\n",
       "    function toolbar_mouse_event(event) {\n",
       "        return fig.toolbar_button_onmouseover(event['data']);\n",
       "    }\n",
       "\n",
       "    for(var toolbar_ind in mpl.toolbar_items) {\n",
       "        var name = mpl.toolbar_items[toolbar_ind][0];\n",
       "        var tooltip = mpl.toolbar_items[toolbar_ind][1];\n",
       "        var image = mpl.toolbar_items[toolbar_ind][2];\n",
       "        var method_name = mpl.toolbar_items[toolbar_ind][3];\n",
       "\n",
       "        if (!name) {\n",
       "            // put a spacer in here.\n",
       "            continue;\n",
       "        }\n",
       "        var button = $('<button/>');\n",
       "        button.addClass('ui-button ui-widget ui-state-default ui-corner-all ' +\n",
       "                        'ui-button-icon-only');\n",
       "        button.attr('role', 'button');\n",
       "        button.attr('aria-disabled', 'false');\n",
       "        button.click(method_name, toolbar_event);\n",
       "        button.mouseover(tooltip, toolbar_mouse_event);\n",
       "\n",
       "        var icon_img = $('<span/>');\n",
       "        icon_img.addClass('ui-button-icon-primary ui-icon');\n",
       "        icon_img.addClass(image);\n",
       "        icon_img.addClass('ui-corner-all');\n",
       "\n",
       "        var tooltip_span = $('<span/>');\n",
       "        tooltip_span.addClass('ui-button-text');\n",
       "        tooltip_span.html(tooltip);\n",
       "\n",
       "        button.append(icon_img);\n",
       "        button.append(tooltip_span);\n",
       "\n",
       "        nav_element.append(button);\n",
       "    }\n",
       "\n",
       "    var fmt_picker_span = $('<span/>');\n",
       "\n",
       "    var fmt_picker = $('<select/>');\n",
       "    fmt_picker.addClass('mpl-toolbar-option ui-widget ui-widget-content');\n",
       "    fmt_picker_span.append(fmt_picker);\n",
       "    nav_element.append(fmt_picker_span);\n",
       "    this.format_dropdown = fmt_picker[0];\n",
       "\n",
       "    for (var ind in mpl.extensions) {\n",
       "        var fmt = mpl.extensions[ind];\n",
       "        var option = $(\n",
       "            '<option/>', {selected: fmt === mpl.default_extension}).html(fmt);\n",
       "        fmt_picker.append(option)\n",
       "    }\n",
       "\n",
       "    // Add hover states to the ui-buttons\n",
       "    $( \".ui-button\" ).hover(\n",
       "        function() { $(this).addClass(\"ui-state-hover\");},\n",
       "        function() { $(this).removeClass(\"ui-state-hover\");}\n",
       "    );\n",
       "\n",
       "    var status_bar = $('<span class=\"mpl-message\"/>');\n",
       "    nav_element.append(status_bar);\n",
       "    this.message = status_bar[0];\n",
       "}\n",
       "\n",
       "mpl.figure.prototype.request_resize = function(x_pixels, y_pixels) {\n",
       "    // Request matplotlib to resize the figure. Matplotlib will then trigger a resize in the client,\n",
       "    // which will in turn request a refresh of the image.\n",
       "    this.send_message('resize', {'width': x_pixels, 'height': y_pixels});\n",
       "}\n",
       "\n",
       "mpl.figure.prototype.send_message = function(type, properties) {\n",
       "    properties['type'] = type;\n",
       "    properties['figure_id'] = this.id;\n",
       "    this.ws.send(JSON.stringify(properties));\n",
       "}\n",
       "\n",
       "mpl.figure.prototype.send_draw_message = function() {\n",
       "    if (!this.waiting) {\n",
       "        this.waiting = true;\n",
       "        this.ws.send(JSON.stringify({type: \"draw\", figure_id: this.id}));\n",
       "    }\n",
       "}\n",
       "\n",
       "\n",
       "mpl.figure.prototype.handle_save = function(fig, msg) {\n",
       "    var format_dropdown = fig.format_dropdown;\n",
       "    var format = format_dropdown.options[format_dropdown.selectedIndex].value;\n",
       "    fig.ondownload(fig, format);\n",
       "}\n",
       "\n",
       "\n",
       "mpl.figure.prototype.handle_resize = function(fig, msg) {\n",
       "    var size = msg['size'];\n",
       "    if (size[0] != fig.canvas.width || size[1] != fig.canvas.height) {\n",
       "        fig._resize_canvas(size[0], size[1]);\n",
       "        fig.send_message(\"refresh\", {});\n",
       "    };\n",
       "}\n",
       "\n",
       "mpl.figure.prototype.handle_rubberband = function(fig, msg) {\n",
       "    var x0 = msg['x0'];\n",
       "    var y0 = fig.canvas.height - msg['y0'];\n",
       "    var x1 = msg['x1'];\n",
       "    var y1 = fig.canvas.height - msg['y1'];\n",
       "    x0 = Math.floor(x0) + 0.5;\n",
       "    y0 = Math.floor(y0) + 0.5;\n",
       "    x1 = Math.floor(x1) + 0.5;\n",
       "    y1 = Math.floor(y1) + 0.5;\n",
       "    var min_x = Math.min(x0, x1);\n",
       "    var min_y = Math.min(y0, y1);\n",
       "    var width = Math.abs(x1 - x0);\n",
       "    var height = Math.abs(y1 - y0);\n",
       "\n",
       "    fig.rubberband_context.clearRect(\n",
       "        0, 0, fig.canvas.width, fig.canvas.height);\n",
       "\n",
       "    fig.rubberband_context.strokeRect(min_x, min_y, width, height);\n",
       "}\n",
       "\n",
       "mpl.figure.prototype.handle_figure_label = function(fig, msg) {\n",
       "    // Updates the figure title.\n",
       "    fig.header.textContent = msg['label'];\n",
       "}\n",
       "\n",
       "mpl.figure.prototype.handle_cursor = function(fig, msg) {\n",
       "    var cursor = msg['cursor'];\n",
       "    switch(cursor)\n",
       "    {\n",
       "    case 0:\n",
       "        cursor = 'pointer';\n",
       "        break;\n",
       "    case 1:\n",
       "        cursor = 'default';\n",
       "        break;\n",
       "    case 2:\n",
       "        cursor = 'crosshair';\n",
       "        break;\n",
       "    case 3:\n",
       "        cursor = 'move';\n",
       "        break;\n",
       "    }\n",
       "    fig.rubberband_canvas.style.cursor = cursor;\n",
       "}\n",
       "\n",
       "mpl.figure.prototype.handle_message = function(fig, msg) {\n",
       "    fig.message.textContent = msg['message'];\n",
       "}\n",
       "\n",
       "mpl.figure.prototype.handle_draw = function(fig, msg) {\n",
       "    // Request the server to send over a new figure.\n",
       "    fig.send_draw_message();\n",
       "}\n",
       "\n",
       "mpl.figure.prototype.handle_image_mode = function(fig, msg) {\n",
       "    fig.image_mode = msg['mode'];\n",
       "}\n",
       "\n",
       "mpl.figure.prototype.updated_canvas_event = function() {\n",
       "    // Called whenever the canvas gets updated.\n",
       "    this.send_message(\"ack\", {});\n",
       "}\n",
       "\n",
       "// A function to construct a web socket function for onmessage handling.\n",
       "// Called in the figure constructor.\n",
       "mpl.figure.prototype._make_on_message_function = function(fig) {\n",
       "    return function socket_on_message(evt) {\n",
       "        if (evt.data instanceof Blob) {\n",
       "            /* FIXME: We get \"Resource interpreted as Image but\n",
       "             * transferred with MIME type text/plain:\" errors on\n",
       "             * Chrome.  But how to set the MIME type?  It doesn't seem\n",
       "             * to be part of the websocket stream */\n",
       "            evt.data.type = \"image/png\";\n",
       "\n",
       "            /* Free the memory for the previous frames */\n",
       "            if (fig.imageObj.src) {\n",
       "                (window.URL || window.webkitURL).revokeObjectURL(\n",
       "                    fig.imageObj.src);\n",
       "            }\n",
       "\n",
       "            fig.imageObj.src = (window.URL || window.webkitURL).createObjectURL(\n",
       "                evt.data);\n",
       "            fig.updated_canvas_event();\n",
       "            fig.waiting = false;\n",
       "            return;\n",
       "        }\n",
       "        else if (typeof evt.data === 'string' && evt.data.slice(0, 21) == \"data:image/png;base64\") {\n",
       "            fig.imageObj.src = evt.data;\n",
       "            fig.updated_canvas_event();\n",
       "            fig.waiting = false;\n",
       "            return;\n",
       "        }\n",
       "\n",
       "        var msg = JSON.parse(evt.data);\n",
       "        var msg_type = msg['type'];\n",
       "\n",
       "        // Call the  \"handle_{type}\" callback, which takes\n",
       "        // the figure and JSON message as its only arguments.\n",
       "        try {\n",
       "            var callback = fig[\"handle_\" + msg_type];\n",
       "        } catch (e) {\n",
       "            console.log(\"No handler for the '\" + msg_type + \"' message type: \", msg);\n",
       "            return;\n",
       "        }\n",
       "\n",
       "        if (callback) {\n",
       "            try {\n",
       "                // console.log(\"Handling '\" + msg_type + \"' message: \", msg);\n",
       "                callback(fig, msg);\n",
       "            } catch (e) {\n",
       "                console.log(\"Exception inside the 'handler_\" + msg_type + \"' callback:\", e, e.stack, msg);\n",
       "            }\n",
       "        }\n",
       "    };\n",
       "}\n",
       "\n",
       "// from http://stackoverflow.com/questions/1114465/getting-mouse-location-in-canvas\n",
       "mpl.findpos = function(e) {\n",
       "    //this section is from http://www.quirksmode.org/js/events_properties.html\n",
       "    var targ;\n",
       "    if (!e)\n",
       "        e = window.event;\n",
       "    if (e.target)\n",
       "        targ = e.target;\n",
       "    else if (e.srcElement)\n",
       "        targ = e.srcElement;\n",
       "    if (targ.nodeType == 3) // defeat Safari bug\n",
       "        targ = targ.parentNode;\n",
       "\n",
       "    // jQuery normalizes the pageX and pageY\n",
       "    // pageX,Y are the mouse positions relative to the document\n",
       "    // offset() returns the position of the element relative to the document\n",
       "    var x = e.pageX - $(targ).offset().left;\n",
       "    var y = e.pageY - $(targ).offset().top;\n",
       "\n",
       "    return {\"x\": x, \"y\": y};\n",
       "};\n",
       "\n",
       "/*\n",
       " * return a copy of an object with only non-object keys\n",
       " * we need this to avoid circular references\n",
       " * http://stackoverflow.com/a/24161582/3208463\n",
       " */\n",
       "function simpleKeys (original) {\n",
       "  return Object.keys(original).reduce(function (obj, key) {\n",
       "    if (typeof original[key] !== 'object')\n",
       "        obj[key] = original[key]\n",
       "    return obj;\n",
       "  }, {});\n",
       "}\n",
       "\n",
       "mpl.figure.prototype.mouse_event = function(event, name) {\n",
       "    var canvas_pos = mpl.findpos(event)\n",
       "\n",
       "    if (name === 'button_press')\n",
       "    {\n",
       "        this.canvas.focus();\n",
       "        this.canvas_div.focus();\n",
       "    }\n",
       "\n",
       "    var x = canvas_pos.x;\n",
       "    var y = canvas_pos.y;\n",
       "\n",
       "    this.send_message(name, {x: x, y: y, button: event.button,\n",
       "                             step: event.step,\n",
       "                             guiEvent: simpleKeys(event)});\n",
       "\n",
       "    /* This prevents the web browser from automatically changing to\n",
       "     * the text insertion cursor when the button is pressed.  We want\n",
       "     * to control all of the cursor setting manually through the\n",
       "     * 'cursor' event from matplotlib */\n",
       "    event.preventDefault();\n",
       "    return false;\n",
       "}\n",
       "\n",
       "mpl.figure.prototype._key_event_extra = function(event, name) {\n",
       "    // Handle any extra behaviour associated with a key event\n",
       "}\n",
       "\n",
       "mpl.figure.prototype.key_event = function(event, name) {\n",
       "\n",
       "    // Prevent repeat events\n",
       "    if (name == 'key_press')\n",
       "    {\n",
       "        if (event.which === this._key)\n",
       "            return;\n",
       "        else\n",
       "            this._key = event.which;\n",
       "    }\n",
       "    if (name == 'key_release')\n",
       "        this._key = null;\n",
       "\n",
       "    var value = '';\n",
       "    if (event.ctrlKey && event.which != 17)\n",
       "        value += \"ctrl+\";\n",
       "    if (event.altKey && event.which != 18)\n",
       "        value += \"alt+\";\n",
       "    if (event.shiftKey && event.which != 16)\n",
       "        value += \"shift+\";\n",
       "\n",
       "    value += 'k';\n",
       "    value += event.which.toString();\n",
       "\n",
       "    this._key_event_extra(event, name);\n",
       "\n",
       "    this.send_message(name, {key: value,\n",
       "                             guiEvent: simpleKeys(event)});\n",
       "    return false;\n",
       "}\n",
       "\n",
       "mpl.figure.prototype.toolbar_button_onclick = function(name) {\n",
       "    if (name == 'download') {\n",
       "        this.handle_save(this, null);\n",
       "    } else {\n",
       "        this.send_message(\"toolbar_button\", {name: name});\n",
       "    }\n",
       "};\n",
       "\n",
       "mpl.figure.prototype.toolbar_button_onmouseover = function(tooltip) {\n",
       "    this.message.textContent = tooltip;\n",
       "};\n",
       "mpl.toolbar_items = [[\"Home\", \"Reset original view\", \"fa fa-home icon-home\", \"home\"], [\"Back\", \"Back to  previous view\", \"fa fa-arrow-left icon-arrow-left\", \"back\"], [\"Forward\", \"Forward to next view\", \"fa fa-arrow-right icon-arrow-right\", \"forward\"], [\"\", \"\", \"\", \"\"], [\"Pan\", \"Pan axes with left mouse, zoom with right\", \"fa fa-arrows icon-move\", \"pan\"], [\"Zoom\", \"Zoom to rectangle\", \"fa fa-square-o icon-check-empty\", \"zoom\"], [\"\", \"\", \"\", \"\"], [\"Download\", \"Download plot\", \"fa fa-floppy-o icon-save\", \"download\"]];\n",
       "\n",
       "mpl.extensions = [\"eps\", \"jpeg\", \"pdf\", \"png\", \"ps\", \"raw\", \"svg\", \"tif\"];\n",
       "\n",
       "mpl.default_extension = \"png\";var comm_websocket_adapter = function(comm) {\n",
       "    // Create a \"websocket\"-like object which calls the given IPython comm\n",
       "    // object with the appropriate methods. Currently this is a non binary\n",
       "    // socket, so there is still some room for performance tuning.\n",
       "    var ws = {};\n",
       "\n",
       "    ws.close = function() {\n",
       "        comm.close()\n",
       "    };\n",
       "    ws.send = function(m) {\n",
       "        //console.log('sending', m);\n",
       "        comm.send(m);\n",
       "    };\n",
       "    // Register the callback with on_msg.\n",
       "    comm.on_msg(function(msg) {\n",
       "        //console.log('receiving', msg['content']['data'], msg);\n",
       "        // Pass the mpl event to the overriden (by mpl) onmessage function.\n",
       "        ws.onmessage(msg['content']['data'])\n",
       "    });\n",
       "    return ws;\n",
       "}\n",
       "\n",
       "mpl.mpl_figure_comm = function(comm, msg) {\n",
       "    // This is the function which gets called when the mpl process\n",
       "    // starts-up an IPython Comm through the \"matplotlib\" channel.\n",
       "\n",
       "    var id = msg.content.data.id;\n",
       "    // Get hold of the div created by the display call when the Comm\n",
       "    // socket was opened in Python.\n",
       "    var element = $(\"#\" + id);\n",
       "    var ws_proxy = comm_websocket_adapter(comm)\n",
       "\n",
       "    function ondownload(figure, format) {\n",
       "        window.open(figure.imageObj.src);\n",
       "    }\n",
       "\n",
       "    var fig = new mpl.figure(id, ws_proxy,\n",
       "                           ondownload,\n",
       "                           element.get(0));\n",
       "\n",
       "    // Call onopen now - mpl needs it, as it is assuming we've passed it a real\n",
       "    // web socket which is closed, not our websocket->open comm proxy.\n",
       "    ws_proxy.onopen();\n",
       "\n",
       "    fig.parent_element = element.get(0);\n",
       "    fig.cell_info = mpl.find_output_cell(\"<div id='\" + id + \"'></div>\");\n",
       "    if (!fig.cell_info) {\n",
       "        console.error(\"Failed to find cell for figure\", id, fig);\n",
       "        return;\n",
       "    }\n",
       "\n",
       "    var output_index = fig.cell_info[2]\n",
       "    var cell = fig.cell_info[0];\n",
       "\n",
       "};\n",
       "\n",
       "mpl.figure.prototype.handle_close = function(fig, msg) {\n",
       "    fig.root.unbind('remove')\n",
       "\n",
       "    // Update the output cell to use the data from the current canvas.\n",
       "    fig.push_to_output();\n",
       "    var dataURL = fig.canvas.toDataURL();\n",
       "    // Re-enable the keyboard manager in IPython - without this line, in FF,\n",
       "    // the notebook keyboard shortcuts fail.\n",
       "    IPython.keyboard_manager.enable()\n",
       "    $(fig.parent_element).html('<img src=\"' + dataURL + '\">');\n",
       "    fig.close_ws(fig, msg);\n",
       "}\n",
       "\n",
       "mpl.figure.prototype.close_ws = function(fig, msg){\n",
       "    fig.send_message('closing', msg);\n",
       "    // fig.ws.close()\n",
       "}\n",
       "\n",
       "mpl.figure.prototype.push_to_output = function(remove_interactive) {\n",
       "    // Turn the data on the canvas into data in the output cell.\n",
       "    var dataURL = this.canvas.toDataURL();\n",
       "    this.cell_info[1]['text/html'] = '<img src=\"' + dataURL + '\">';\n",
       "}\n",
       "\n",
       "mpl.figure.prototype.updated_canvas_event = function() {\n",
       "    // Tell IPython that the notebook contents must change.\n",
       "    IPython.notebook.set_dirty(true);\n",
       "    this.send_message(\"ack\", {});\n",
       "    var fig = this;\n",
       "    // Wait a second, then push the new image to the DOM so\n",
       "    // that it is saved nicely (might be nice to debounce this).\n",
       "    setTimeout(function () { fig.push_to_output() }, 1000);\n",
       "}\n",
       "\n",
       "mpl.figure.prototype._init_toolbar = function() {\n",
       "    var fig = this;\n",
       "\n",
       "    var nav_element = $('<div/>')\n",
       "    nav_element.attr('style', 'width: 100%');\n",
       "    this.root.append(nav_element);\n",
       "\n",
       "    // Define a callback function for later on.\n",
       "    function toolbar_event(event) {\n",
       "        return fig.toolbar_button_onclick(event['data']);\n",
       "    }\n",
       "    function toolbar_mouse_event(event) {\n",
       "        return fig.toolbar_button_onmouseover(event['data']);\n",
       "    }\n",
       "\n",
       "    for(var toolbar_ind in mpl.toolbar_items){\n",
       "        var name = mpl.toolbar_items[toolbar_ind][0];\n",
       "        var tooltip = mpl.toolbar_items[toolbar_ind][1];\n",
       "        var image = mpl.toolbar_items[toolbar_ind][2];\n",
       "        var method_name = mpl.toolbar_items[toolbar_ind][3];\n",
       "\n",
       "        if (!name) { continue; };\n",
       "\n",
       "        var button = $('<button class=\"btn btn-default\" href=\"#\" title=\"' + name + '\"><i class=\"fa ' + image + ' fa-lg\"></i></button>');\n",
       "        button.click(method_name, toolbar_event);\n",
       "        button.mouseover(tooltip, toolbar_mouse_event);\n",
       "        nav_element.append(button);\n",
       "    }\n",
       "\n",
       "    // Add the status bar.\n",
       "    var status_bar = $('<span class=\"mpl-message\" style=\"text-align:right; float: right;\"/>');\n",
       "    nav_element.append(status_bar);\n",
       "    this.message = status_bar[0];\n",
       "\n",
       "    // Add the close button to the window.\n",
       "    var buttongrp = $('<div class=\"btn-group inline pull-right\"></div>');\n",
       "    var button = $('<button class=\"btn btn-mini btn-primary\" href=\"#\" title=\"Stop Interaction\"><i class=\"fa fa-power-off icon-remove icon-large\"></i></button>');\n",
       "    button.click(function (evt) { fig.handle_close(fig, {}); } );\n",
       "    button.mouseover('Stop Interaction', toolbar_mouse_event);\n",
       "    buttongrp.append(button);\n",
       "    var titlebar = this.root.find($('.ui-dialog-titlebar'));\n",
       "    titlebar.prepend(buttongrp);\n",
       "}\n",
       "\n",
       "mpl.figure.prototype._root_extra_style = function(el){\n",
       "    var fig = this\n",
       "    el.on(\"remove\", function(){\n",
       "\tfig.close_ws(fig, {});\n",
       "    });\n",
       "}\n",
       "\n",
       "mpl.figure.prototype._canvas_extra_style = function(el){\n",
       "    // this is important to make the div 'focusable\n",
       "    el.attr('tabindex', 0)\n",
       "    // reach out to IPython and tell the keyboard manager to turn it's self\n",
       "    // off when our div gets focus\n",
       "\n",
       "    // location in version 3\n",
       "    if (IPython.notebook.keyboard_manager) {\n",
       "        IPython.notebook.keyboard_manager.register_events(el);\n",
       "    }\n",
       "    else {\n",
       "        // location in version 2\n",
       "        IPython.keyboard_manager.register_events(el);\n",
       "    }\n",
       "\n",
       "}\n",
       "\n",
       "mpl.figure.prototype._key_event_extra = function(event, name) {\n",
       "    var manager = IPython.notebook.keyboard_manager;\n",
       "    if (!manager)\n",
       "        manager = IPython.keyboard_manager;\n",
       "\n",
       "    // Check for shift+enter\n",
       "    if (event.shiftKey && event.which == 13) {\n",
       "        this.canvas_div.blur();\n",
       "        event.shiftKey = false;\n",
       "        // Send a \"J\" for go to next cell\n",
       "        event.which = 74;\n",
       "        event.keyCode = 74;\n",
       "        manager.command_mode();\n",
       "        manager.handle_keydown(event);\n",
       "    }\n",
       "}\n",
       "\n",
       "mpl.figure.prototype.handle_save = function(fig, msg) {\n",
       "    fig.ondownload(fig, null);\n",
       "}\n",
       "\n",
       "\n",
       "mpl.find_output_cell = function(html_output) {\n",
       "    // Return the cell and output element which can be found *uniquely* in the notebook.\n",
       "    // Note - this is a bit hacky, but it is done because the \"notebook_saving.Notebook\"\n",
       "    // IPython event is triggered only after the cells have been serialised, which for\n",
       "    // our purposes (turning an active figure into a static one), is too late.\n",
       "    var cells = IPython.notebook.get_cells();\n",
       "    var ncells = cells.length;\n",
       "    for (var i=0; i<ncells; i++) {\n",
       "        var cell = cells[i];\n",
       "        if (cell.cell_type === 'code'){\n",
       "            for (var j=0; j<cell.output_area.outputs.length; j++) {\n",
       "                var data = cell.output_area.outputs[j];\n",
       "                if (data.data) {\n",
       "                    // IPython >= 3 moved mimebundle to data attribute of output\n",
       "                    data = data.data;\n",
       "                }\n",
       "                if (data['text/html'] == html_output) {\n",
       "                    return [cell, data, j];\n",
       "                }\n",
       "            }\n",
       "        }\n",
       "    }\n",
       "}\n",
       "\n",
       "// Register the function which deals with the matplotlib target/channel.\n",
       "// The kernel may be null if the page has been refreshed.\n",
       "if (IPython.notebook.kernel != null) {\n",
       "    IPython.notebook.kernel.comm_manager.register_target('matplotlib', mpl.mpl_figure_comm);\n",
       "}\n"
      ],
      "text/plain": [
       "<IPython.core.display.Javascript object>"
      ]
     },
     "metadata": {},
     "output_type": "display_data"
    },
    {
     "data": {
      "text/html": [
       "<img src=\"data:image/png;base64,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\">"
      ],
      "text/plain": [
       "<IPython.core.display.HTML object>"
      ]
     },
     "metadata": {},
     "output_type": "display_data"
    }
   ],
   "source": [
    "plt.figure(figsize=(12, 4), num=None)\n",
    "\n",
    "ax1 = plt.subplot(121, projection=ccrs.PlateCarree())\n",
    "ax1.coastlines()\n",
    "temp_plot = cb.Pcolormesh(ukpress, ax1, cmap='viridis', vmin=95000, vmax=102500)\n",
    "plt.title(\"Pressure\")\n",
    "\n",
    "ax2 = plt.subplot(122, projection=ccrs.PlateCarree())\n",
    "ax2.coastlines()\n",
    "press_plot = cb.Pcolormesh(ukprecip, ax2, cmap='Blues', vmin=0.0, vmax=0.005)\n",
    "plt.title(\"Temperature\")\n",
    "\n",
    "plt.suptitle(\"ERA data\")\n",
    "\n",
    "cb.Browser([temp_plot, press_plot]).display()"
   ]
  },
  {
   "cell_type": "markdown",
   "metadata": {
    "extensions": {
     "jupyter_dashboards": {
      "version": 1,
      "views": {
       "grid_default": {
        "col": 0,
        "height": 4,
        "hidden": true,
        "row": 81,
        "width": 4
       },
       "report_default": {}
      }
     }
    }
   },
   "source": [
    "### TASK\n",
    "Can you make the main title a bigger fontsize?"
   ]
  },
  {
   "cell_type": "markdown",
   "metadata": {
    "collapsed": true,
    "extensions": {
     "jupyter_dashboards": {
      "version": 1,
      "views": {
       "grid_default": {
        "hidden": true
       },
       "report_default": {
        "hidden": true
       }
      }
     }
    }
   },
   "source": [
    "## Other Stuff\n",
    "\n",
    "You can even embed videos"
   ]
  },
  {
   "cell_type": "code",
   "execution_count": 13,
   "metadata": {
    "collapsed": false,
    "extensions": {
     "jupyter_dashboards": {
      "version": 1,
      "views": {
       "grid_default": {
        "col": 3,
        "height": 12,
        "hidden": false,
        "row": 12,
        "width": 6
       },
       "report_default": {
        "hidden": false
       }
      }
     }
    }
   },
   "outputs": [
    {
     "data": {
      "image/jpeg": "[encoded data removed]",
      "text/html": [
       "\n",
       "        <iframe\n",
       "            width=\"400\"\n",
       "            height=\"300\"\n",
       "            src=\"https://www.youtube.com/embed/fEyqBop3p14\"\n",
       "            frameborder=\"0\"\n",
       "            allowfullscreen\n",
       "        ></iframe>\n",
       "        "
      ],
      "text/plain": [
       "<IPython.lib.display.YouTubeVideo at 0x7f3a5e597790>"
      ]
     },
     "execution_count": 13,
     "metadata": {},
     "output_type": "execute_result"
    }
   ],
   "source": [
    "from IPython.display import YouTubeVideo\n",
    "YouTubeVideo(\"fEyqBop3p14\")"
   ]
  },
  {
   "cell_type": "markdown",
   "metadata": {
    "extensions": {
     "jupyter_dashboards": {
      "version": 1,
      "views": {
       "grid_default": {
        "col": 0,
        "height": 6,
        "hidden": true,
        "row": 109,
        "width": 12
       },
       "report_default": {}
      }
     }
    }
   },
   "source": [
    "### Dashboards\n",
    "If you click this button ![](./button.png) up at the top of this page, you can turn this whole Notebook into and interactive document!\n",
    "\n",
    "### TASK\n",
    "Click the button to the left of this with four squares and start creating your own dashboard"
   ]
  },
  {
   "cell_type": "code",
   "execution_count": null,
   "metadata": {
    "collapsed": true,
    "extensions": {
     "jupyter_dashboards": {
      "version": 1,
      "views": {
       "grid_default": {
        "hidden": true
       },
       "report_default": {}
      }
     }
    }
   },
   "outputs": [],
   "source": []
  }
 ],
 "metadata": {
  "extensions": {
   "jupyter_dashboards": {
    "activeView": "grid_default",
    "version": 1,
    "views": {
     "grid_default": {
      "cellMargin": 10,
      "defaultCellHeight": 20,
      "maxColumns": 12,
      "name": "grid",
      "type": "grid"
     },
     "report_default": {
      "name": "report",
      "type": "report"
     }
    }
   }
  },
  "kernelspec": {
   "display_name": "Python 2",
   "language": "python",
   "name": "python2"
  },
  "language_info": {
   "codemirror_mode": {
    "name": "ipython",
    "version": 2
   },
   "file_extension": ".py",
   "mimetype": "text/x-python",
   "name": "python",
   "nbconvert_exporter": "python",
   "pygments_lexer": "ipython2",
   "version": "2.7.11"
  },
  "widgets": {
   "state": {
    "0193d521294048a69cd776a1f7fbfde3": {
     "views": []
    },
    "01d2f8623c98415ebb5c35edc894170f": {
     "views": []
    },
    "02ae3fc1af56465e88fa38dbd2b3b2e4": {
     "views": []
    },
    "03bce86b4b994bb6861481b63f276850": {
     "views": []
    },
    "03c20e9258694aa982d7bb51733d0ba6": {
     "views": []
    },
    "05c74f0d41274731986f4011008ad1c0": {
     "views": []
    },
    "06949c4c6ec44e4b82a0f57ec7878d36": {
     "views": []
    },
    "06d353096bd847c09ec00bcdaf8fbe68": {
     "views": []
    },
    "09684d8d4677462cad1d2a4e3d7faf96": {
     "views": []
    },
    "0de27e9ef703403c9952c385c8efc70d": {
     "views": []
    },
    "0e4f6a20d2d84ffa8ea4177e7540ad24": {
     "views": []
    },
    "0f15bea0c3d440c7a8ffc3bd00258aeb": {
     "views": []
    },
    "0f4d2e344c1640e9a79a623fc7482875": {
     "views": []
    },
    "116a10c8ee734162a6cbf2806976868c": {
     "views": []
    },
    "12a10b4a60f349d7a209818343e5b59a": {
     "views": []
    },
    "12bd5067363b41d6b15c67a98e9c17bf": {
     "views": []
    },
    "12ec232a71da44ea920fb1e13f0d7910": {
     "views": []
    },
    "13213f759f1244c5bc6a7c02cef16750": {
     "views": []
    },
    "1336504f98e8463387b11d30b5a077e4": {
     "views": []
    },
    "13abf7ff55ad41e99feffdca0ffea1f5": {
     "views": []
    },
    "1440aa48c6d8411fbf426e57bfbef721": {
     "views": []
    },
    "152d4d0994d049419b810e7f93d08187": {
     "views": []
    },
    "15d2e5fedaec404b95168dd4f253150a": {
     "views": []
    },
    "15f71d29853c4aa8b409c6a8f419a117": {
     "views": []
    },
    "16e705e415f04d4d9a8c870208cb926d": {
     "views": []
    },
    "16f8ce19e87543f088ea2c8faca718c3": {
     "views": []
    },
    "17406862f05b47f3aa508e8402a4d1f0": {
     "views": []
    },
    "17507c32223246bb9a8f007ab725c8cc": {
     "views": []
    },
    "1761e14d1b1846f9821ba00213e4334b": {
     "views": []
    },
    "1820cde2868a486798667c1b6ddeb7f3": {
     "views": []
    },
    "191ceaf222564750997736532a918fca": {
     "views": []
    },
    "194302304b514d589d136220e6c62f73": {
     "views": []
    },
    "19ca1207daa249f081efca4da11854b0": {
     "views": []
    },
    "1ab4cb1294d44b04b11202f0c1c30aa3": {
     "views": []
    },
    "1ad3ec67112c470b92b28aa05b3ebd19": {
     "views": []
    },
    "1b19456cd80448098462f08b1ee31bd0": {
     "views": []
    },
    "1d1d736866a84dcc81780feca84a14ec": {
     "views": []
    },
    "1d7c4a5f37464fe4badaa49db53ea417": {
     "views": []
    },
    "1e31fafc10474af6a7005364b61eb260": {
     "views": []
    },
    "1fe6afa4b382458ca16ca4cc246c2bfb": {
     "views": []
    },
    "1fe774ae834440edb7f91b06afc6c415": {
     "views": []
    },
    "1fff9401d3564604a687bdd2bb6332a5": {
     "views": []
    },
    "201cedff3c8f4fd19b2ec89e629be6c0": {
     "views": []
    },
    "203878891cca489e9a58aab86acea1a5": {
     "views": []
    },
    "21120d8b62494ee498ee59e344c46d17": {
     "views": []
    },
    "216b63418898475a9dd558b3498f1e87": {
     "views": []
    },
    "2200d158a1f147d094a2fc8ed9b674ae": {
     "views": []
    },
    "226e0f82380f41e4a02ec23985204184": {
     "views": []
    },
    "23b23a404f744d7baef2af83d2698c44": {
     "views": []
    },
    "23f54e36b0274bf294d6999fa90ba85e": {
     "views": []
    },
    "2506555abf924a378fb04f223ec06087": {
     "views": []
    },
    "26a0436429624c02b76536ada96484e6": {
     "views": []
    },
    "26cca5b1bb3f499c9183866248218984": {
     "views": []
    },
    "27bd69dd4342459199387f71161952fc": {
     "views": []
    },
    "27c0aba3e78e4416b5ceb38c80771ff2": {
     "views": []
    },
    "27fa0ee8600846d1bcc6e22161b1c474": {
     "views": []
    },
    "28274bd8790b48f7bf384e77598b840b": {
     "views": []
    },
    "283514cb978148d18c194bb50504ce55": {
     "views": []
    },
    "2ad7aecce4b6475a8a69b165965d9178": {
     "views": []
    },
    "2b145e278be149029a46f0c0ccf76884": {
     "views": []
    },
    "2cbafaf9bd1242bfbd06833aca19a96d": {
     "views": []
    },
    "2d2b17cd586041d999e1f7ed1e961f18": {
     "views": []
    },
    "2e5f5d63479f4df2ba345422d8d9f614": {
     "views": []
    },
    "2ec0665b7c7046a495df010b4c64b529": {
     "views": []
    },
    "2f91f389a6f14509b8e748f4c1d6e999": {
     "views": []
    },
    "2fd7d37a41444a6c89407ee0746c4220": {
     "views": []
    },
    "30436dc7f5a642e1acdbbbc958d61360": {
     "views": []
    },
    "306095c761924b95ab4f78b9148759ba": {
     "views": []
    },
    "30aedb075acb44dda1e0ee3d1ef31a9a": {
     "views": []
    },
    "30c9a69b3c3c4ffa8d0de2274c5a1f71": {
     "views": []
    },
    "3108bc4802cd468781aa78504e5d3735": {
     "views": []
    },
    "32092e9eb02a49bdb46b58dc3292a639": {
     "views": []
    },
    "32638b4c508045359715cee845845bed": {
     "views": []
    },
    "32e8520a8e764abab1b0f171a9c29f97": {
     "views": []
    },
    "33acbc301fdf4ff28cbb03df36a8a9dd": {
     "views": []
    },
    "33e2c4d219a44ebdb1c37be4397b0e55": {
     "views": []
    },
    "34a13903001a444985359aef24b130e3": {
     "views": []
    },
    "353265da53de4feca6b14eb0bd01c683": {
     "views": []
    },
    "36044f0798e54b83936a6edc2ce901b6": {
     "views": []
    },
    "36b973a8abcd4ce2a401c39d0060ab87": {
     "views": []
    },
    "37cb1ce990974a91ab0db4094d6cdea8": {
     "views": []
    },
    "37d3979169dd408883e21258ee8e7171": {
     "views": []
    },
    "37f3652d84ee40e4bb786f485e299925": {
     "views": []
    },
    "3861cff029f24d988c3821e980618ea8": {
     "views": []
    },
    "38666df3aa4d4f1a81a37195c8a7bf42": {
     "views": []
    },
    "39814dedd0924d87acf1871e814fbcaf": {
     "views": []
    },
    "3a1d1b468d804b5b9cb682be07a22e92": {
     "views": []
    },
    "3ac4e1f17130449b8adb828798e41faf": {
     "views": []
    },
    "3af269c9acfd4e7f80df93dd0f9bea6d": {
     "views": []
    },
    "3b2b2588c492466aadc77fdc4e88489f": {
     "views": []
    },
    "3ba4cd025cdb46b990e913bd74a6565b": {
     "views": []
    },
    "3c8f125e22bf478bb89e2352eae9fdd4": {
     "views": []
    },
    "3d3b4545c670498a92a360042c65c586": {
     "views": []
    },
    "3e036edcf2434284ba1bf7c8fd52c9f5": {
     "views": []
    },
    "3edf33cf840e407886763c2bf8aa5281": {
     "views": []
    },
    "3f0784eca12d4e83a9d40ccbd906eb18": {
     "views": []
    },
    "3f9091ba9e374e3caea76ecd9a344339": {
     "views": []
    },
    "3f9ad12109e84575ba3fc46382cfa159": {
     "views": []
    },
    "40062985c87346f8bbad935220fe4fe7": {
     "views": []
    },
    "4288224ffd30404ea5aa0330bfb00ca3": {
     "views": []
    },
    "4419305a86824c3eb10f957968d83971": {
     "views": []
    },
    "450cdc6aa583418fabab996a648b4fa1": {
     "views": []
    },
    "475f4b1bcd2b45c2bfb2deaa39a264df": {
     "views": []
    },
    "477944ade4a84952bdc11dec06941154": {
     "views": []
    },
    "487f8a6690dc41ea8e6df8243c439090": {
     "views": []
    },
    "48863fea8a5946db9d499f08db257174": {
     "views": []
    },
    "4a8f4c6d7f234dfcb248b4d3fa57f42d": {
     "views": []
    },
    "4af3b66cb9c7403a8d356fc986d9b00c": {
     "views": []
    },
    "4ceaabf3461e4dc49c8f04986f0a638b": {
     "views": []
    },
    "4de357ffabdd4b8c90e2979fdb913aa1": {
     "views": []
    },
    "4e71e58204e041529597cbefe53d09ca": {
     "views": []
    },
    "4f009277abdd43d4a70ddbe100185244": {
     "views": []
    },
    "4f15cdfc98904dc7b98db104b14c959a": {
     "views": []
    },
    "52a022f2bd70456fbaac6c1cf5c369a9": {
     "views": []
    },
    "536d22e364c441b19ee2fdfd8b6bc5a7": {
     "views": []
    },
    "539af6d40b2d41a9819ead61505bfdc4": {
     "views": []
    },
    "5432ecf5f0894e01aebec43d6e7bc799": {
     "views": []
    },
    "557f42f0a9364bc79331dd5af245a7fb": {
     "views": []
    },
    "563e3697f02d43d297c6031de44fec3b": {
     "views": []
    },
    "567010d18f724d42b14a9eb39913928e": {
     "views": []
    },
    "56ba12efe57c45d48ea4610d650154a5": {
     "views": []
    },
    "572c6eb6fe4548afac00404bbca9f54d": {
     "views": []
    },
    "575ffbc2af104a86ab37185accffdc29": {
     "views": []
    },
    "58c66107ee8f48069c85a7095362aabf": {
     "views": []
    },
    "5c137019a03c401387021986454bbc47": {
     "views": []
    },
    "5d8f59569c7848e0ace198dafd9b07ec": {
     "views": []
    },
    "5f2a9c1a8b144fd0af00cd13ccce8002": {
     "views": []
    },
    "6006c8fa50654ede8d263d0c2e124494": {
     "views": []
    },
    "617397f0f7d348b99a4c9fc70d87f7db": {
     "views": []
    },
    "626068e6947c40baa0003c694325206f": {
     "views": []
    },
    "62c826dd9f674920b22db935efe5c65b": {
     "views": []
    },
    "632c8c1552234d03ad2e0224d92118b2": {
     "views": []
    },
    "657c012d97454e668e77fc7b9abe3892": {
     "views": []
    },
    "67129578db3648c0b7f2c687e7e54fc9": {
     "views": []
    },
    "674859f204c34bc98410bf4032e8d68c": {
     "views": []
    },
    "67ee5399191e42f3a763e22015db88ab": {
     "views": []
    },
    "69e33dcef6304b528585150fdb2599b0": {
     "views": []
    },
    "6a5afe0e5a4e49bcbad03117b380037a": {
     "views": []
    },
    "6ac0bf22250144f1acac2d4974fd265a": {
     "views": []
    },
    "6b33ee093a9a4bfaba65a45e397744f9": {
     "views": []
    },
    "6b8de93bf0804956a7e7dd74771ee65f": {
     "views": []
    },
    "6ba459716c614b25952404c8314640a1": {
     "views": []
    },
    "6bf4b8cfbe4b41c8987311fb27971006": {
     "views": []
    },
    "6d118d0d3baa49ddb982db7fd708383d": {
     "views": []
    },
    "6d1c60c059044f9aa1018698cac27d58": {
     "views": []
    },
    "6d4064ed717143c8880bfcda264af60e": {
     "views": []
    },
    "6ebdcaae98734a149f0b387f14f15d4d": {
     "views": []
    },
    "6f0cf43155294e2596e8ff43c4019e0b": {
     "views": []
    },
    "6f55bda814c94b49bbe9d8573a540b54": {
     "views": []
    },
    "705d2b923a55425e91364bcdb0536943": {
     "views": []
    },
    "706198e2420944b2a784aa37da848d75": {
     "views": []
    },
    "70afe1d3aaf747e8ac084ae0f779d58e": {
     "views": []
    },
    "71eb626f9c2940b1b97cb4e5fbaaa649": {
     "views": []
    },
    "71ecf16dee1c444599274a054e499999": {
     "views": []
    },
    "72c5c595fdbb4920b6cedc3f13552bd5": {
     "views": []
    },
    "736b874bdbc24484892ec72565874367": {
     "views": []
    },
    "73849b7f409c499fa14bc4372c9c3e29": {
     "views": []
    },
    "739243fadfa9448db9988a0c7921668d": {
     "views": []
    },
    "747fabd43f1a439b9072324a7d36501b": {
     "views": []
    },
    "74ae1b27c48b4ff98eef30b600a517e9": {
     "views": []
    },
    "74ca8913b04449c99402c263b85328f2": {
     "views": []
    },
    "74cba58b45e24f9eab57827f8f8c75b0": {
     "views": []
    },
    "76a174a618da404a9a3fe5b3deaff5b5": {
     "views": []
    },
    "7787bae86ea646a6876fa03dcbfc0f3d": {
     "views": []
    },
    "7797597948494f80a8c94219fc082554": {
     "views": []
    },
    "77b56eb01f2949b8bfaaa8ebffa38e7f": {
     "views": []
    },
    "789197865e434b47983c440055e565ac": {
     "views": []
    },
    "7974e2b1ba7547d68f68a3b3f205940d": {
     "views": []
    },
    "79d3a062f7da45f4b503674785e0402c": {
     "views": []
    },
    "7aa91b56775d40068561d8d977d33d64": {
     "views": []
    },
    "7d2cef91819849a5a2d17f3132e06635": {
     "views": []
    },
    "7d2cefde19c34144b687fe0ae07a3ba2": {
     "views": []
    },
    "7e6c3f016fd8466cb014c9e129b8cd80": {
     "views": []
    },
    "7e841922f7864724b33a1f655dc84d8a": {
     "views": []
    },
    "7ee76294a70d403c94d8ac3f04bc8244": {
     "views": []
    },
    "7f1ba61c034d45999520bf877ad79fba": {
     "views": []
    },
    "7f9432548b9847499f90858c69f98e5a": {
     "views": []
    },
    "8001ae53dceb4e58b8455ff57696c726": {
     "views": []
    },
    "816ad7b496954e7dbb9a12e1c1d2c03c": {
     "views": []
    },
    "81af9ab4d5164f498ecf0835a42bb071": {
     "views": []
    },
    "83915760598141328ef656bd362266d7": {
     "views": []
    },
    "83e6829cf7cb4280bc1e779cbafa54bd": {
     "views": []
    },
    "83ec9f479160424cbcf4a5fd406b0b32": {
     "views": []
    },
    "84d60f14b5314a65914ad970c27a1ca1": {
     "views": []
    },
    "8565030f4a614c298cf87b823f9fa3a5": {
     "views": []
    },
    "86aa7ec1f9154d35979b47b4f2aec660": {
     "views": []
    },
    "87137359c6e04c238a623def54fccab6": {
     "views": []
    },
    "884e61c119c34b199250e8c3c9c22e84": {
     "views": []
    },
    "88c23522a5f94f5bae2b81da8e475bf4": {
     "views": []
    },
    "88def8fcfe374e6499c234150f380b73": {
     "views": []
    },
    "8b761a2117d4452a93f1f437f2deaa6a": {
     "views": []
    },
    "8c63b89d44954a3ab87051d427817a7b": {
     "views": []
    },
    "8cfc663b6ec54d1180c40fbcf227cfc7": {
     "views": []
    },
    "8dbbc9f244834ee8af4516883fba361c": {
     "views": []
    },
    "8e01e16bdace46c4b891903eaebc03cd": {
     "views": []
    },
    "8f0593c9b4c941ab9fc70f1009341efa": {
     "views": []
    },
    "8f46a495f24342a9ba6a1972a064e1a6": {
     "views": []
    },
    "8ff8a0dd333a499492b3cc31f4392737": {
     "views": []
    },
    "9035d6d8ef1948a2927de3437e946159": {
     "views": []
    },
    "905e21515437453d9b5c8c49bbeaede3": {
     "views": []
    },
    "92c85588dae04e16b1681a7548b8814e": {
     "views": []
    },
    "92d211bef546441eac6fa5adfc1fff52": {
     "views": []
    },
    "936d41dbaf2c4651a4e556029724556d": {
     "views": []
    },
    "946b3903fa324f4b9078e29666225ba9": {
     "views": []
    },
    "95b949a9addc4eca810cbe52134fb2bb": {
     "views": []
    },
    "972afdaa909e4128b342d300c34497a7": {
     "views": []
    },
    "97497f58b2994547a72c351bb4b24327": {
     "views": []
    },
    "9783d180f5004645b6d9eb220ccc93b5": {
     "views": []
    },
    "97b67fc0604f411aabfb7884370f7c74": {
     "views": []
    },
    "97ef5f783cbe4edab851093c2161c852": {
     "views": []
    },
    "989ece3e5a8e4276b40afbd8a3d3da7f": {
     "views": []
    },
    "99f3685179f74ef1a5eb56976e056683": {
     "views": []
    },
    "9a20f7e30d19435f801f24b9af0de358": {
     "views": []
    },
    "9b5884d1504440878b5fe17ed242566f": {
     "views": []
    },
    "9c20c79621104f26816f5be2443935e3": {
     "views": []
    },
    "9d4fbca5072f46328bea04c9c2b39f82": {
     "views": []
    },
    "9e53b82fd1224bfd8947941387cc66f1": {
     "views": []
    },
    "9ee7c4ed6cc2478b93bce21e66aa433c": {
     "views": []
    },
    "a0fdb8d0ae56453e96fbd7e6d28947f6": {
     "views": []
    },
    "a100a297c69f4ebb901e932be89cd721": {
     "views": []
    },
    "a36ae962dcb14baf9a5f946050e03d17": {
     "views": []
    },
    "a5905be5e7654350994f7a6cacc559e6": {
     "views": []
    },
    "a623457227ad48568b5febb338d9c728": {
     "views": []
    },
    "a69935de21cc449ebcf95437bd6e5884": {
     "views": []
    },
    "a6e0159853264bc9b5e890f15f6a389e": {
     "views": []
    },
    "a72f1e384ecd4a2cb23435f2907af5a4": {
     "views": []
    },
    "a7b6c276df38445aad9e2cc228aecdf9": {
     "views": []
    },
    "a7d02c86987a4be2bfcf0fb45a1e307b": {
     "views": []
    },
    "a9369934856d46fb838dc1fe18150396": {
     "views": []
    },
    "a96ceaa4655043b392af4a579871e1ee": {
     "views": []
    },
    "a9952ab98838439f9f48e9688496aee0": {
     "views": []
    },
    "aa1cfde396c54805a031e190f2b54bb8": {
     "views": []
    },
    "aa8b5d36c834444bbf5b1dd67844d54a": {
     "views": []
    },
    "ab4ac4b4e70b4d50bee0e0a50d0ef807": {
     "views": []
    },
    "ab82135ad945428f950fca37dca0acf2": {
     "views": []
    },
    "ab98f25368a046618620b56e15aa7666": {
     "views": []
    },
    "ac43572dc0b74345a6318cac6e77129d": {
     "views": []
    },
    "ad1fc3b170f94482a0733ac98c8fa9ac": {
     "views": []
    },
    "ad388645857a40568120c3a5931569eb": {
     "views": []
    },
    "ad740db60efc4fb4855a4a6edc7f028c": {
     "views": []
    },
    "ad98d23902a245ffb169961d15fc8aae": {
     "views": []
    },
    "ae4d3bd051254d469785ed122d48241b": {
     "views": []
    },
    "aefa1561f6884b87a9ed749e5bb8c514": {
     "views": []
    },
    "afb9637cfcc24186bd63195d53d637b6": {
     "views": []
    },
    "afc20ccc3d6849e69009670eef7b8ed8": {
     "views": []
    },
    "b006fd75fabd42ee93c92aa91bc4a2f4": {
     "views": []
    },
    "b0143b4becea45d9bfb28e1983d5ca39": {
     "views": []
    },
    "b08ba88cf3814fd0bd53835b2acf6e56": {
     "views": []
    },
    "b1c0f52764b542a28765355f196dcc4b": {
     "views": []
    },
    "b34fcbeb753846e3b4237d1fd0ec3c63": {
     "views": []
    },
    "b353fb2460dc4cddb14ece2847e2504b": {
     "views": []
    },
    "b571f124be804c9da3f012ebfd3bd7b1": {
     "views": []
    },
    "b63256ba178d499cb02c62d4d299a5c8": {
     "views": []
    },
    "b73a362011c6499da3c43d89a8e98138": {
     "views": []
    },
    "b746d23a68284af18acb65b8d0fb202e": {
     "views": []
    },
    "b7785f09ef10432ba0bb0e09864a1664": {
     "views": []
    },
    "b77af1f552ac434cb2600d46f6341b59": {
     "views": []
    },
    "b916e3cf2e0246f6a85afefe06d8dd11": {
     "views": []
    },
    "b9170c7d5dfc4e64bbdf6a6e7d62dc81": {
     "views": []
    },
    "b946e2b5adbd490ba9b07f7ab734c030": {
     "views": []
    },
    "b9780f80abcc4dc4b512b08fe9554a72": {
     "views": []
    },
    "b99db4c14ad748058547d0835b8d51d0": {
     "views": []
    },
    "b9e91d14d4514ef3b360117af8b8a86a": {
     "views": []
    },
    "bb0a05a369094584ae6e1e4878120cc4": {
     "views": []
    },
    "bb3cd4a5673740298a5f3b433a81bca3": {
     "views": []
    },
    "bb9b31b7b0684f1abfb5bf5952a085a6": {
     "views": []
    },
    "bc106a9bca774eabaf2de5da67902fc2": {
     "views": []
    },
    "bccbfa612fed465c94dc692595ccea68": {
     "views": []
    },
    "bd8f852fe0774e4990cc9800fa8f8cb3": {
     "views": []
    },
    "bf1197bd1e7244b8b6803c9c43285bc8": {
     "views": []
    },
    "bfa7c153f67742dd83b4f5e26d2c2e93": {
     "views": []
    },
    "c283480b3fea4610841a9ca6f2cfdd3b": {
     "views": []
    },
    "c29323a829c74a18b6e0bf3b76c69625": {
     "views": []
    },
    "c2ba16444ad44b6c970ea7952cb27b26": {
     "views": []
    },
    "c388fb697fd4422f81646d56ca169050": {
     "views": []
    },
    "c48f7931ca4948c3a5caa12b7b87c9f8": {
     "views": []
    },
    "c526eb33aa9c4fa497339da1bd5f1164": {
     "views": []
    },
    "c552160c9e2941c18a6133d7b9064eab": {
     "views": []
    },
    "c701a9ef4fb7401382023f4a8bf51e18": {
     "views": []
    },
    "c747b096c0fe47aeb25f1482a1c4a22e": {
     "views": []
    },
    "c772b260b7464f94a0d25ba8db3d4dc9": {
     "views": []
    },
    "c8126e1f99f24f309a78ef301509b1b1": {
     "views": []
    },
    "c84dfdfacad745b591c440d23c2349eb": {
     "views": []
    },
    "c87181a2d903442781c42dca15f43e2c": {
     "views": []
    },
    "c9423ac879bb409fb108d75e3cfe1b62": {
     "views": []
    },
    "c9e7c40995f9422e9e0c5076d4b4bc8f": {
     "views": []
    },
    "cbecfd4e5e734540bb68e345b31a99fd": {
     "views": []
    },
    "cd22143cbe4841a6b5201164d2bfc17f": {
     "views": []
    },
    "cd99b73ab5d64bf2b9c5dd60f1ef07ec": {
     "views": []
    },
    "cdf0bddd3a3942469217db16cf712f47": {
     "views": []
    },
    "ce1e891157fe40cea120f05df15718ac": {
     "views": []
    },
    "ce51c0211bb24f2aabb5517540e808e9": {
     "views": []
    },
    "cfa413a79f1e4406a5d89b4f4897813b": {
     "views": []
    },
    "cfbc134c0927421bbb7cbe369b1643dd": {
     "views": []
    },
    "cfbfa2931d9b40659f867fdcc90d9950": {
     "views": []
    },
    "cfe7355e3ad44e99888bfbf0ec259834": {
     "views": []
    },
    "d1c2dffb78cc4ba990071ba1583a2a39": {
     "views": []
    },
    "d25a176939094a84936efd11c3eb5fb9": {
     "views": []
    },
    "d27696a5c45f454aa6a17b364ab4855a": {
     "views": []
    },
    "d2ff0c463b434fc4a39fff8841a10f44": {
     "views": []
    },
    "d3f60133caca428aac7ddd8df2b731f4": {
     "views": []
    },
    "d4096554116d45dc98eaa7b3e0790e09": {
     "views": []
    },
    "d4da6848c4a749e289b2830db424348f": {
     "views": []
    },
    "d55de49cf9c840909c869e811648c1be": {
     "views": []
    },
    "d60892e24df940b1a503db90625a8ad1": {
     "views": []
    },
    "d77f698b3a9f4c25a275a9f27d803319": {
     "views": []
    },
    "d78dea153cd743e2b88e05a0d6d416b6": {
     "views": []
    },
    "d830b80481d44cc49f4d792150f13fd2": {
     "views": []
    },
    "d8f09555a9814fb5a14dc3b214e9d026": {
     "views": []
    },
    "da3f12a85a98448fa3410cd7cd26a8aa": {
     "views": []
    },
    "dc8d847133944473b61f755045a4a389": {
     "views": []
    },
    "ddaadebe6c4e4591b2cfce2b0191c6c9": {
     "views": []
    },
    "dea834122d644b63839c8fa6a0ecdce0": {
     "views": []
    },
    "dfa7821b4537420e911d7177ec39a9d2": {
     "views": []
    },
    "e01c1dcbcb1848559f2d6e36bede9783": {
     "views": []
    },
    "e058d56efdec4d6ca83db2bd90bead6e": {
     "views": []
    },
    "e07802312154401fb6e067f485d1325c": {
     "views": []
    },
    "e0f30507966a456fa15936745abec17e": {
     "views": []
    },
    "e11b2e5bb949433b82067c74cd0229da": {
     "views": []
    },
    "e2e04f73fc3542309aba3f361efff143": {
     "views": []
    },
    "e3b8f724b51f47e784d4e0e4caad72ec": {
     "views": []
    },
    "e4b9843422e74d4f9376b57f2c0c42df": {
     "views": []
    },
    "e5bbc566a312466592fdb41f2d2cbc83": {
     "views": []
    },
    "e5bdb7988acb4d48888d967a80268614": {
     "views": [
      {
       "cell_index": 18
      }
     ]
    },
    "e6984fbcbb5c480b9915bced3c37e846": {
     "views": []
    },
    "e7d043158a0844939315adc743f7142e": {
     "views": []
    },
    "ea3eb93f3a98451b97facb50a94bf598": {
     "views": []
    },
    "eabada21aa364c16877cf4f4b0e0bdc3": {
     "views": []
    },
    "eba867188e4f469d930a0713cd4002dd": {
     "views": []
    },
    "ebb7cff3d4d747e6977f29c1580d628d": {
     "views": []
    },
    "ec5915172cfc45aca1921054e9bd3a38": {
     "views": []
    },
    "eccb2fc7834f479d9bafd50d4255e5ee": {
     "views": []
    },
    "ed123b12bef4434db82422256ff4a5bf": {
     "views": []
    },
    "ede1d2bc707548b08c48c9738f7753e6": {
     "views": []
    },
    "efd00232225f4dcba2c2fdf5b46d773e": {
     "views": []
    },
    "f056a59ccf9a407ea86be573493e0d2e": {
     "views": []
    },
    "f0a76a8f65a04e118c5ad7b8d65b777d": {
     "views": []
    },
    "f2a747fd950c4e6a91cfbe0fa200751f": {
     "views": []
    },
    "f386265f49b2473eb15428b561b3f3b3": {
     "views": []
    },
    "f3d9cbd95e514419adcb32c5e47b54fc": {
     "views": [
      {
       "cell_index": 20
      }
     ]
    },
    "f3fc311512d64fe78dda52f3578148bd": {
     "views": []
    },
    "f4e842d2b86845f7a73f3f7bbc9b6cdc": {
     "views": []
    },
    "f54cb9492e5045f39af04b7da7f158cd": {
     "views": []
    },
    "f7b84654d2e14bd895d506ce6d5b3efa": {
     "views": []
    },
    "f8b79db953e34b8d8a2c269e716ab7d8": {
     "views": []
    },
    "f91faa688f784e5099676e186b0f31be": {
     "views": []
    },
    "fa8450560ed0446f93db34db0e5f21c0": {
     "views": []
    },
    "fb2225194ac745209215bcd24d70e6a9": {
     "views": []
    },
    "fb82e9215b704c6c9402db8fb5126791": {
     "views": []
    },
    "fe22c28e20554cb48c5fc26c8af37822": {
     "views": []
    },
    "ffaada8a4a3747a5ae298f4aaffa6d5a": {
     "views": []
    },
    "fff5f97857944b99aabadd75dce1c410": {
     "views": []
    }
   },
   "version": "1.1.2"
  }
 },
 "nbformat": 4,
 "nbformat_minor": 0
}
